{
 "cells": [
  {
   "cell_type": "markdown",
   "metadata": {},
   "source": [
    "# VERİ SETİNİ TANIMA VE GÖRSELLEŞTİRME\n",
    "## Kütüphanelerin Eklenmesi\n",
    "## Veri Setinin Eklenmesi\n",
    "## Veri Setini Tanıma\n",
    "## Veriyi Görselleştirme"
   ]
  },
  {
   "cell_type": "code",
   "execution_count": null,
   "metadata": {},
   "outputs": [],
   "source": [
    "import pandas as pd\n",
    "import seaborn as sns\n",
    "import matplotlib.pyplot as plt"
   ]
  },
  {
   "cell_type": "markdown",
   "metadata": {},
   "source": [
    "# VERİ SETİNİ TANIMA"
   ]
  },
  {
   "cell_type": "code",
   "execution_count": 2,
   "metadata": {},
   "outputs": [],
   "source": [
    "df = pd.read_excel(\"ilçeler_2.xlsx\")"
   ]
  },
  {
   "cell_type": "markdown",
   "metadata": {},
   "source": [
    "### Veri setini tanıyalım"
   ]
  },
  {
   "cell_type": "code",
   "execution_count": 4,
   "metadata": {},
   "outputs": [
    {
     "name": "stdout",
     "output_type": "stream",
     "text": [
      "<class 'pandas.core.frame.DataFrame'>\n",
      "RangeIndex: 819 entries, 0 to 818\n",
      "Data columns (total 23 columns):\n",
      "Unnamed: 0           819 non-null int64\n",
      "ilçe                 819 non-null object\n",
      "türü                 819 non-null object\n",
      "kategori             819 non-null object\n",
      "yapı_durumu          819 non-null object\n",
      "net_metrekare        819 non-null int64\n",
      "alan                 819 non-null int64\n",
      "oda_sayısı           819 non-null object\n",
      "bina_yaşı            819 non-null object\n",
      "dairenin_katı        819 non-null object\n",
      "kat_sayısı           819 non-null int64\n",
      "ısıtma               819 non-null object\n",
      "aidat                819 non-null int64\n",
      "banyo_sayısı         819 non-null object\n",
      "wc_sayısı            819 non-null object\n",
      "site_içerisinde      819 non-null object\n",
      "eşya_durumu          819 non-null object\n",
      "kullanım_durumu      819 non-null object\n",
      "krediye_uygunluk     819 non-null object\n",
      "yatırıma_uygunluk    819 non-null object\n",
      "yapı_tipi            819 non-null object\n",
      "takas                819 non-null object\n",
      "fiyat                819 non-null int64\n",
      "dtypes: int64(6), object(17)\n",
      "memory usage: 147.3+ KB\n"
     ]
    }
   ],
   "source": [
    "df.info()"
   ]
  },
  {
   "cell_type": "code",
   "execution_count": 6,
   "metadata": {},
   "outputs": [
    {
     "data": {
      "text/html": [
       "<div>\n",
       "<style scoped>\n",
       "    .dataframe tbody tr th:only-of-type {\n",
       "        vertical-align: middle;\n",
       "    }\n",
       "\n",
       "    .dataframe tbody tr th {\n",
       "        vertical-align: top;\n",
       "    }\n",
       "\n",
       "    .dataframe thead th {\n",
       "        text-align: right;\n",
       "    }\n",
       "</style>\n",
       "<table border=\"1\" class=\"dataframe\">\n",
       "  <thead>\n",
       "    <tr style=\"text-align: right;\">\n",
       "      <th></th>\n",
       "      <th>count</th>\n",
       "      <th>mean</th>\n",
       "      <th>std</th>\n",
       "      <th>min</th>\n",
       "      <th>25%</th>\n",
       "      <th>50%</th>\n",
       "      <th>75%</th>\n",
       "      <th>max</th>\n",
       "    </tr>\n",
       "  </thead>\n",
       "  <tbody>\n",
       "    <tr>\n",
       "      <td>Unnamed: 0</td>\n",
       "      <td>819.0</td>\n",
       "      <td>4.098828e+02</td>\n",
       "      <td>2.367487e+02</td>\n",
       "      <td>0.0</td>\n",
       "      <td>205.5</td>\n",
       "      <td>410.0</td>\n",
       "      <td>614.5</td>\n",
       "      <td>819.0</td>\n",
       "    </tr>\n",
       "    <tr>\n",
       "      <td>net_metrekare</td>\n",
       "      <td>819.0</td>\n",
       "      <td>1.479231e+02</td>\n",
       "      <td>1.723111e+02</td>\n",
       "      <td>25.0</td>\n",
       "      <td>80.0</td>\n",
       "      <td>100.0</td>\n",
       "      <td>140.0</td>\n",
       "      <td>2400.0</td>\n",
       "    </tr>\n",
       "    <tr>\n",
       "      <td>alan</td>\n",
       "      <td>819.0</td>\n",
       "      <td>1.886972e+02</td>\n",
       "      <td>3.485926e+02</td>\n",
       "      <td>40.0</td>\n",
       "      <td>90.0</td>\n",
       "      <td>114.0</td>\n",
       "      <td>160.0</td>\n",
       "      <td>6600.0</td>\n",
       "    </tr>\n",
       "    <tr>\n",
       "      <td>kat_sayısı</td>\n",
       "      <td>819.0</td>\n",
       "      <td>6.008547e+00</td>\n",
       "      <td>7.048812e+00</td>\n",
       "      <td>1.0</td>\n",
       "      <td>4.0</td>\n",
       "      <td>5.0</td>\n",
       "      <td>6.0</td>\n",
       "      <td>150.0</td>\n",
       "    </tr>\n",
       "    <tr>\n",
       "      <td>aidat</td>\n",
       "      <td>819.0</td>\n",
       "      <td>3.410501e+01</td>\n",
       "      <td>1.238600e+02</td>\n",
       "      <td>0.0</td>\n",
       "      <td>0.0</td>\n",
       "      <td>0.0</td>\n",
       "      <td>0.0</td>\n",
       "      <td>1650.0</td>\n",
       "    </tr>\n",
       "    <tr>\n",
       "      <td>fiyat</td>\n",
       "      <td>819.0</td>\n",
       "      <td>2.287580e+06</td>\n",
       "      <td>1.217935e+07</td>\n",
       "      <td>50000.0</td>\n",
       "      <td>300000.0</td>\n",
       "      <td>420000.0</td>\n",
       "      <td>740000.0</td>\n",
       "      <td>230000000.0</td>\n",
       "    </tr>\n",
       "  </tbody>\n",
       "</table>\n",
       "</div>"
      ],
      "text/plain": [
       "               count          mean           std      min       25%       50%  \\\n",
       "Unnamed: 0     819.0  4.098828e+02  2.367487e+02      0.0     205.5     410.0   \n",
       "net_metrekare  819.0  1.479231e+02  1.723111e+02     25.0      80.0     100.0   \n",
       "alan           819.0  1.886972e+02  3.485926e+02     40.0      90.0     114.0   \n",
       "kat_sayısı     819.0  6.008547e+00  7.048812e+00      1.0       4.0       5.0   \n",
       "aidat          819.0  3.410501e+01  1.238600e+02      0.0       0.0       0.0   \n",
       "fiyat          819.0  2.287580e+06  1.217935e+07  50000.0  300000.0  420000.0   \n",
       "\n",
       "                    75%          max  \n",
       "Unnamed: 0        614.5        819.0  \n",
       "net_metrekare     140.0       2400.0  \n",
       "alan              160.0       6600.0  \n",
       "kat_sayısı          6.0        150.0  \n",
       "aidat               0.0       1650.0  \n",
       "fiyat          740000.0  230000000.0  "
      ]
     },
     "execution_count": 6,
     "metadata": {},
     "output_type": "execute_result"
    }
   ],
   "source": [
    "df.describe().T"
   ]
  },
  {
   "cell_type": "code",
   "execution_count": 7,
   "metadata": {},
   "outputs": [],
   "source": [
    "### "
   ]
  },
  {
   "cell_type": "code",
   "execution_count": 8,
   "metadata": {},
   "outputs": [
    {
     "data": {
      "text/html": [
       "<div>\n",
       "<style scoped>\n",
       "    .dataframe tbody tr th:only-of-type {\n",
       "        vertical-align: middle;\n",
       "    }\n",
       "\n",
       "    .dataframe tbody tr th {\n",
       "        vertical-align: top;\n",
       "    }\n",
       "\n",
       "    .dataframe thead th {\n",
       "        text-align: right;\n",
       "    }\n",
       "</style>\n",
       "<table border=\"1\" class=\"dataframe\">\n",
       "  <thead>\n",
       "    <tr style=\"text-align: right;\">\n",
       "      <th></th>\n",
       "      <th>Unnamed: 0</th>\n",
       "      <th>ilçe</th>\n",
       "      <th>türü</th>\n",
       "      <th>kategori</th>\n",
       "      <th>yapı_durumu</th>\n",
       "      <th>net_metrekare</th>\n",
       "      <th>alan</th>\n",
       "      <th>oda_sayısı</th>\n",
       "      <th>bina_yaşı</th>\n",
       "      <th>dairenin_katı</th>\n",
       "      <th>...</th>\n",
       "      <th>banyo_sayısı</th>\n",
       "      <th>wc_sayısı</th>\n",
       "      <th>site_içerisinde</th>\n",
       "      <th>eşya_durumu</th>\n",
       "      <th>kullanım_durumu</th>\n",
       "      <th>krediye_uygunluk</th>\n",
       "      <th>yatırıma_uygunluk</th>\n",
       "      <th>yapı_tipi</th>\n",
       "      <th>takas</th>\n",
       "      <th>fiyat</th>\n",
       "    </tr>\n",
       "  </thead>\n",
       "  <tbody>\n",
       "    <tr>\n",
       "      <td>0</td>\n",
       "      <td>0</td>\n",
       "      <td>çekmeköy</td>\n",
       "      <td>Daire</td>\n",
       "      <td>Satılık</td>\n",
       "      <td>İkinci El</td>\n",
       "      <td>165</td>\n",
       "      <td>190</td>\n",
       "      <td>4+1</td>\n",
       "      <td>20 Ve Üzeri</td>\n",
       "      <td>Bahçe Dublex</td>\n",
       "      <td>...</td>\n",
       "      <td>1</td>\n",
       "      <td>2</td>\n",
       "      <td>Evet</td>\n",
       "      <td>Boş</td>\n",
       "      <td>Mal Sahibi Oturuyor</td>\n",
       "      <td>KREDIYE UYGUN</td>\n",
       "      <td>Yatırıma Uygun</td>\n",
       "      <td>Betonarme</td>\n",
       "      <td>Yok</td>\n",
       "      <td>430000</td>\n",
       "    </tr>\n",
       "    <tr>\n",
       "      <td>1</td>\n",
       "      <td>1</td>\n",
       "      <td>çekmeköy</td>\n",
       "      <td>Daire</td>\n",
       "      <td>Satılık</td>\n",
       "      <td>Sıfır</td>\n",
       "      <td>85</td>\n",
       "      <td>95</td>\n",
       "      <td>2+1</td>\n",
       "      <td>0</td>\n",
       "      <td>2</td>\n",
       "      <td>...</td>\n",
       "      <td>1</td>\n",
       "      <td>1</td>\n",
       "      <td>Hayır</td>\n",
       "      <td>Boş</td>\n",
       "      <td>Boş</td>\n",
       "      <td>KREDIYE UYGUN</td>\n",
       "      <td>Bilinmiyor</td>\n",
       "      <td>Betonarme</td>\n",
       "      <td>Var</td>\n",
       "      <td>239000</td>\n",
       "    </tr>\n",
       "    <tr>\n",
       "      <td>2</td>\n",
       "      <td>2</td>\n",
       "      <td>çekmeköy</td>\n",
       "      <td>Daire</td>\n",
       "      <td>Satılık</td>\n",
       "      <td>İkinci El</td>\n",
       "      <td>130</td>\n",
       "      <td>143</td>\n",
       "      <td>3+1</td>\n",
       "      <td>11-20</td>\n",
       "      <td>2</td>\n",
       "      <td>...</td>\n",
       "      <td>2</td>\n",
       "      <td>0</td>\n",
       "      <td>Hayır</td>\n",
       "      <td>Boş</td>\n",
       "      <td>Boş</td>\n",
       "      <td>KREDIYE UYGUN</td>\n",
       "      <td>Bilinmiyor</td>\n",
       "      <td>Betonarme</td>\n",
       "      <td>Yok</td>\n",
       "      <td>400000</td>\n",
       "    </tr>\n",
       "    <tr>\n",
       "      <td>3</td>\n",
       "      <td>3</td>\n",
       "      <td>çekmeköy</td>\n",
       "      <td>Daire</td>\n",
       "      <td>Satılık</td>\n",
       "      <td>İkinci El</td>\n",
       "      <td>92</td>\n",
       "      <td>105</td>\n",
       "      <td>2+1</td>\n",
       "      <td>0</td>\n",
       "      <td>Yüksek Giriş</td>\n",
       "      <td>...</td>\n",
       "      <td>1</td>\n",
       "      <td>1</td>\n",
       "      <td>Hayır</td>\n",
       "      <td>Boş</td>\n",
       "      <td>Boş</td>\n",
       "      <td>KREDIYE UYGUN</td>\n",
       "      <td>Bilinmiyor</td>\n",
       "      <td>Betonarme</td>\n",
       "      <td>Var</td>\n",
       "      <td>159000</td>\n",
       "    </tr>\n",
       "    <tr>\n",
       "      <td>4</td>\n",
       "      <td>4</td>\n",
       "      <td>çekmeköy</td>\n",
       "      <td>Daire</td>\n",
       "      <td>Satılık</td>\n",
       "      <td>Sıfır</td>\n",
       "      <td>120</td>\n",
       "      <td>140</td>\n",
       "      <td>3+2</td>\n",
       "      <td>2</td>\n",
       "      <td>4</td>\n",
       "      <td>...</td>\n",
       "      <td>1</td>\n",
       "      <td>1</td>\n",
       "      <td>Hayır</td>\n",
       "      <td>Boş</td>\n",
       "      <td>Boş</td>\n",
       "      <td>KREDIYE UYGUN</td>\n",
       "      <td>Yatırıma Uygun</td>\n",
       "      <td>Betonarme</td>\n",
       "      <td>Var</td>\n",
       "      <td>385000</td>\n",
       "    </tr>\n",
       "  </tbody>\n",
       "</table>\n",
       "<p>5 rows × 23 columns</p>\n",
       "</div>"
      ],
      "text/plain": [
       "   Unnamed: 0      ilçe   türü kategori yapı_durumu  net_metrekare  alan  \\\n",
       "0           0  çekmeköy  Daire  Satılık   İkinci El            165   190   \n",
       "1           1  çekmeköy  Daire  Satılık       Sıfır             85    95   \n",
       "2           2  çekmeköy  Daire  Satılık   İkinci El            130   143   \n",
       "3           3  çekmeköy  Daire  Satılık   İkinci El             92   105   \n",
       "4           4  çekmeköy  Daire  Satılık       Sıfır            120   140   \n",
       "\n",
       "  oda_sayısı    bina_yaşı dairenin_katı  ...  banyo_sayısı wc_sayısı  \\\n",
       "0        4+1  20 Ve Üzeri  Bahçe Dublex  ...             1         2   \n",
       "1        2+1            0             2  ...             1         1   \n",
       "2        3+1        11-20             2  ...             2         0   \n",
       "3        2+1            0  Yüksek Giriş  ...             1         1   \n",
       "4        3+2            2             4  ...             1         1   \n",
       "\n",
       "   site_içerisinde eşya_durumu      kullanım_durumu krediye_uygunluk  \\\n",
       "0             Evet         Boş  Mal Sahibi Oturuyor    KREDIYE UYGUN   \n",
       "1            Hayır         Boş                  Boş    KREDIYE UYGUN   \n",
       "2            Hayır         Boş                  Boş    KREDIYE UYGUN   \n",
       "3            Hayır         Boş                  Boş    KREDIYE UYGUN   \n",
       "4            Hayır         Boş                  Boş    KREDIYE UYGUN   \n",
       "\n",
       "  yatırıma_uygunluk  yapı_tipi takas   fiyat  \n",
       "0    Yatırıma Uygun  Betonarme   Yok  430000  \n",
       "1        Bilinmiyor  Betonarme   Var  239000  \n",
       "2        Bilinmiyor  Betonarme   Yok  400000  \n",
       "3        Bilinmiyor  Betonarme   Var  159000  \n",
       "4    Yatırıma Uygun  Betonarme   Var  385000  \n",
       "\n",
       "[5 rows x 23 columns]"
      ]
     },
     "execution_count": 8,
     "metadata": {},
     "output_type": "execute_result"
    }
   ],
   "source": [
    "df.head()"
   ]
  },
  {
   "cell_type": "markdown",
   "metadata": {},
   "source": [
    "### İlçe İnceleme"
   ]
  },
  {
   "cell_type": "code",
   "execution_count": 12,
   "metadata": {},
   "outputs": [
    {
     "data": {
      "text/plain": [
       "çekmeköy       90\n",
       "şile           75\n",
       "üsküdar        75\n",
       "tuzla          75\n",
       "şişli          75\n",
       "sultangazi     75\n",
       "ümraniye       74\n",
       "sarıyer        73\n",
       "sultanbeyli    72\n",
       "zeytinburnu    72\n",
       "silivri        63\n",
       "Name: ilçe, dtype: int64"
      ]
     },
     "execution_count": 12,
     "metadata": {},
     "output_type": "execute_result"
    }
   ],
   "source": [
    "df.ilçe.value_counts()"
   ]
  },
  {
   "cell_type": "code",
   "execution_count": 102,
   "metadata": {},
   "outputs": [
    {
     "data": {
      "text/plain": [
       "<matplotlib.axes._subplots.AxesSubplot at 0x1f59cdd0708>"
      ]
     },
     "execution_count": 102,
     "metadata": {},
     "output_type": "execute_result"
    },
    {
     "data": {
      "image/png": "[encoded data removed]",
      "text/plain": [
       "<Figure size 432x288 with 1 Axes>"
      ]
     },
     "metadata": {
      "needs_background": "light"
     },
     "output_type": "display_data"
    }
   ],
   "source": [
    "df.ilçe.value_counts().plot.barh()"
   ]
  },
  {
   "cell_type": "markdown",
   "metadata": {},
   "source": [
    "### Türü İnceleme"
   ]
  },
  {
   "cell_type": "code",
   "execution_count": 15,
   "metadata": {},
   "outputs": [
    {
     "data": {
      "text/plain": [
       "Daire           652\n",
       "Villa            88\n",
       "Residence        26\n",
       "Müstakil         20\n",
       "Bina              7\n",
       "Yazlık            7\n",
       "Köşk              5\n",
       "Yalı              5\n",
       "Yalı Dairesi      5\n",
       "Çiftlik Evi       4\n",
       "Name: türü, dtype: int64"
      ]
     },
     "execution_count": 15,
     "metadata": {},
     "output_type": "execute_result"
    }
   ],
   "source": [
    "df.türü.value_counts()"
   ]
  },
  {
   "cell_type": "code",
   "execution_count": 16,
   "metadata": {},
   "outputs": [
    {
     "data": {
      "text/plain": [
       "<matplotlib.axes._subplots.AxesSubplot at 0x1f59e8fb188>"
      ]
     },
     "execution_count": 16,
     "metadata": {},
     "output_type": "execute_result"
    },
    {
     "data": {
      "image/png": "[encoded data removed]",
      "text/plain": [
       "<Figure size 432x288 with 1 Axes>"
      ]
     },
     "metadata": {
      "needs_background": "light"
     },
     "output_type": "display_data"
    }
   ],
   "source": [
    "df.türü.value_counts().plot.barh()"
   ]
  },
  {
   "cell_type": "markdown",
   "metadata": {},
   "source": [
    "### Kategori İnceleme"
   ]
  },
  {
   "cell_type": "code",
   "execution_count": 17,
   "metadata": {},
   "outputs": [
    {
     "data": {
      "text/plain": [
       "Satılık    819\n",
       "Name: kategori, dtype: int64"
      ]
     },
     "execution_count": 17,
     "metadata": {},
     "output_type": "execute_result"
    }
   ],
   "source": [
    "df.kategori.value_counts()"
   ]
  },
  {
   "cell_type": "markdown",
   "metadata": {},
   "source": [
    "### Yapı Durumu İnceleme"
   ]
  },
  {
   "cell_type": "code",
   "execution_count": 18,
   "metadata": {},
   "outputs": [
    {
     "data": {
      "text/plain": [
       "İkinci El           661\n",
       "Sıfır               157\n",
       "Yapım Aşamasında      1\n",
       "Name: yapı_durumu, dtype: int64"
      ]
     },
     "execution_count": 18,
     "metadata": {},
     "output_type": "execute_result"
    }
   ],
   "source": [
    "df.yapı_durumu.value_counts()"
   ]
  },
  {
   "cell_type": "markdown",
   "metadata": {},
   "source": [
    "### Net Metrekare "
   ]
  },
  {
   "cell_type": "code",
   "execution_count": 24,
   "metadata": {},
   "outputs": [
    {
     "data": {
      "text/plain": [
       "count     819.000000\n",
       "mean      147.923077\n",
       "std       172.311107\n",
       "min        25.000000\n",
       "25%        80.000000\n",
       "50%       100.000000\n",
       "75%       140.000000\n",
       "max      2400.000000\n",
       "Name: net_metrekare, dtype: float64"
      ]
     },
     "execution_count": 24,
     "metadata": {},
     "output_type": "execute_result"
    }
   ],
   "source": [
    "df.net_metrekare.describe()"
   ]
  },
  {
   "cell_type": "markdown",
   "metadata": {},
   "source": [
    "### Alan İnceleme"
   ]
  },
  {
   "cell_type": "code",
   "execution_count": 25,
   "metadata": {},
   "outputs": [
    {
     "data": {
      "text/plain": [
       "count     819.000000\n",
       "mean      188.697192\n",
       "std       348.592558\n",
       "min        40.000000\n",
       "25%        90.000000\n",
       "50%       114.000000\n",
       "75%       160.000000\n",
       "max      6600.000000\n",
       "Name: alan, dtype: float64"
      ]
     },
     "execution_count": 25,
     "metadata": {},
     "output_type": "execute_result"
    }
   ],
   "source": [
    "df.alan.describe()"
   ]
  },
  {
   "cell_type": "markdown",
   "metadata": {},
   "source": [
    "### Oda Sayısı"
   ]
  },
  {
   "cell_type": "code",
   "execution_count": 26,
   "metadata": {},
   "outputs": [
    {
     "data": {
      "text/plain": [
       "2+1       342\n",
       "3+1       192\n",
       "1+1        83\n",
       "4+1        64\n",
       "4+2        25\n",
       "5+1        22\n",
       "5+2        17\n",
       "8+         17\n",
       "3+2        15\n",
       "1          10\n",
       "6+1         7\n",
       "6+2         7\n",
       "7+2         6\n",
       "2+2         4\n",
       "Stüdyo      3\n",
       "7+3         2\n",
       "6+3         2\n",
       "5+3         1\n",
       "Name: oda_sayısı, dtype: int64"
      ]
     },
     "execution_count": 26,
     "metadata": {},
     "output_type": "execute_result"
    }
   ],
   "source": [
    "df.oda_sayısı.value_counts()"
   ]
  },
  {
   "cell_type": "code",
   "execution_count": 27,
   "metadata": {},
   "outputs": [
    {
     "data": {
      "text/plain": [
       "<matplotlib.axes._subplots.AxesSubplot at 0x1f59ed89788>"
      ]
     },
     "execution_count": 27,
     "metadata": {},
     "output_type": "execute_result"
    },
    {
     "data": {
      "image/png": "[encoded data removed]",
      "text/plain": [
       "<Figure size 432x288 with 1 Axes>"
      ]
     },
     "metadata": {
      "needs_background": "light"
     },
     "output_type": "display_data"
    }
   ],
   "source": [
    "df.oda_sayısı.value_counts().plot.barh()"
   ]
  },
  {
   "cell_type": "markdown",
   "metadata": {},
   "source": [
    "### Bina Yaşı"
   ]
  },
  {
   "cell_type": "code",
   "execution_count": 28,
   "metadata": {},
   "outputs": [
    {
     "data": {
      "text/plain": [
       "0              235\n",
       "5-10           154\n",
       "20 Ve Üzeri    124\n",
       "11-20          116\n",
       "1               56\n",
       "4               52\n",
       "2               49\n",
       "3               33\n",
       "Name: bina_yaşı, dtype: int64"
      ]
     },
     "execution_count": 28,
     "metadata": {},
     "output_type": "execute_result"
    }
   ],
   "source": [
    "df.bina_yaşı.value_counts()"
   ]
  },
  {
   "cell_type": "code",
   "execution_count": 73,
   "metadata": {},
   "outputs": [
    {
     "data": {
      "text/plain": [
       "Text(0, 0.5, 'yaş')"
      ]
     },
     "execution_count": 73,
     "metadata": {},
     "output_type": "execute_result"
    },
    {
     "data": {
      "image/png": "[encoded data removed]",
      "text/plain": [
       "<Figure size 360x1080 with 1 Axes>"
      ]
     },
     "metadata": {},
     "output_type": "display_data"
    }
   ],
   "source": [
    "fig = plt.figure(figsize=(5,15))\n",
    "df.bina_yaşı.value_counts().plot(kind = 'pie',autopct='%.1f%%');\n",
    "plt.ylabel(\"yaş\", fontsize = 20)"
   ]
  },
  {
   "cell_type": "markdown",
   "metadata": {},
   "source": [
    "### Dairenin Katı"
   ]
  },
  {
   "cell_type": "code",
   "execution_count": 32,
   "metadata": {
    "scrolled": true
   },
   "outputs": [
    {
     "data": {
      "text/plain": [
       "2                112\n",
       "3                 87\n",
       "4                 82\n",
       "1                 73\n",
       "Düz Giriş         73\n",
       "Bahçe Katı        66\n",
       "Yüksek Giriş      54\n",
       "Villa Tipi        49\n",
       "5                 34\n",
       "Müstakil          34\n",
       "Çatı Dubleks      17\n",
       "8                 17\n",
       "Kot 1             16\n",
       "9                 14\n",
       "6                 13\n",
       "7                 10\n",
       "10                 9\n",
       "Bahçe Dublex       8\n",
       "Çatı Katı          7\n",
       "11                 5\n",
       "Yarı Bodrum        4\n",
       "Kot 3              4\n",
       "12                 4\n",
       "Kot 2              3\n",
       "Yüksek Bodrum      3\n",
       "21                 3\n",
       "13                 3\n",
       "15                 2\n",
       "2                  2\n",
       "Tam Bodrum         2\n",
       "17                 2\n",
       "27                 1\n",
       "16                 1\n",
       "22                 1\n",
       "14                 1\n",
       "20-30              1\n",
       "24                 1\n",
       "30-40              1\n",
       "Name: dairenin_katı, dtype: int64"
      ]
     },
     "execution_count": 32,
     "metadata": {},
     "output_type": "execute_result"
    }
   ],
   "source": [
    "df.dairenin_katı.value_counts()"
   ]
  },
  {
   "cell_type": "markdown",
   "metadata": {},
   "source": [
    "### Kat Sayısı"
   ]
  },
  {
   "cell_type": "code",
   "execution_count": 33,
   "metadata": {
    "scrolled": true
   },
   "outputs": [
    {
     "data": {
      "text/plain": [
       "5      213\n",
       "4      187\n",
       "2       92\n",
       "3       88\n",
       "6       49\n",
       "7       33\n",
       "10      23\n",
       "8       20\n",
       "12      18\n",
       "11      17\n",
       "14      12\n",
       "9       12\n",
       "1       12\n",
       "13       8\n",
       "17       6\n",
       "18       6\n",
       "30       5\n",
       "15       4\n",
       "23       3\n",
       "16       2\n",
       "22       2\n",
       "55       1\n",
       "25       1\n",
       "29       1\n",
       "40       1\n",
       "42       1\n",
       "44       1\n",
       "150      1\n",
       "Name: kat_sayısı, dtype: int64"
      ]
     },
     "execution_count": 33,
     "metadata": {},
     "output_type": "execute_result"
    }
   ],
   "source": [
    "df.kat_sayısı.value_counts()"
   ]
  },
  {
   "cell_type": "markdown",
   "metadata": {},
   "source": [
    "### Isıtma"
   ]
  },
  {
   "cell_type": "code",
   "execution_count": 34,
   "metadata": {},
   "outputs": [
    {
     "data": {
      "text/plain": [
       "Kombi Doğalgaz         650\n",
       "Merkezi (Pay Ölçer)    101\n",
       "Merkezi Doğalgaz        22\n",
       "Isıtma Yok              12\n",
       "Sobalı                   8\n",
       "Doğalgaz Sobalı          7\n",
       "Yerden Isıtma            7\n",
       "Kat Kaloriferi           7\n",
       "Klimalı                  3\n",
       "Güneş Enerjisi           2\n",
       "Name: ısıtma, dtype: int64"
      ]
     },
     "execution_count": 34,
     "metadata": {},
     "output_type": "execute_result"
    }
   ],
   "source": [
    "df.ısıtma.value_counts()"
   ]
  },
  {
   "cell_type": "markdown",
   "metadata": {},
   "source": [
    "### Aidat"
   ]
  },
  {
   "cell_type": "code",
   "execution_count": 53,
   "metadata": {
    "collapsed": true
   },
   "outputs": [
    {
     "data": {
      "text/plain": [
       "0       659\n",
       "30       24\n",
       "50       20\n",
       "300      10\n",
       "20       10\n",
       "25        9\n",
       "40        9\n",
       "35        7\n",
       "150       7\n",
       "70        5\n",
       "400       3\n",
       "200       3\n",
       "125       3\n",
       "100       3\n",
       "110       2\n",
       "284       2\n",
       "295       2\n",
       "180       2\n",
       "250       2\n",
       "360       2\n",
       "440       2\n",
       "460       2\n",
       "15        2\n",
       "130       1\n",
       "230       1\n",
       "32        1\n",
       "165       1\n",
       "1200      1\n",
       "10        1\n",
       "80        1\n",
       "1000      1\n",
       "269       1\n",
       "417       1\n",
       "800       1\n",
       "700       1\n",
       "650       1\n",
       "1650      1\n",
       "600       1\n",
       "550       1\n",
       "500       1\n",
       "442       1\n",
       "380       1\n",
       "270       1\n",
       "375       1\n",
       "350       1\n",
       "340       1\n",
       "330       1\n",
       "309       1\n",
       "285       1\n",
       "280       1\n",
       "900       1\n",
       "275       1\n",
       "Name: aidat, dtype: int64"
      ]
     },
     "execution_count": 53,
     "metadata": {},
     "output_type": "execute_result"
    }
   ],
   "source": [
    "df.aidat.value_counts()"
   ]
  },
  {
   "cell_type": "code",
   "execution_count": 54,
   "metadata": {},
   "outputs": [
    {
     "data": {
      "text/plain": [
       "34.105006105006105"
      ]
     },
     "execution_count": 54,
     "metadata": {},
     "output_type": "execute_result"
    }
   ],
   "source": [
    "df.aidat.mean()"
   ]
  },
  {
   "cell_type": "markdown",
   "metadata": {},
   "source": [
    "### Banyo Sayısı"
   ]
  },
  {
   "cell_type": "code",
   "execution_count": 81,
   "metadata": {},
   "outputs": [
    {
     "data": {
      "image/png": "[encoded data removed]",
      "text/plain": [
       "<Figure size 1440x360 with 1 Axes>"
      ]
     },
     "metadata": {},
     "output_type": "display_data"
    }
   ],
   "source": [
    "fig = plt.figure(figsize=(20,5))\n",
    "df.banyo_sayısı.value_counts().plot(kind = 'pie',autopct='%.1f%%')\n",
    "plt.ylabel(\"\", fontsize = 20)\n",
    "plt.title(\"Banyo Sayısı\");"
   ]
  },
  {
   "cell_type": "markdown",
   "metadata": {},
   "source": [
    "### WC Sayısı"
   ]
  },
  {
   "cell_type": "code",
   "execution_count": 84,
   "metadata": {},
   "outputs": [
    {
     "data": {
      "text/plain": [
       "0     518\n",
       "1     167\n",
       "2     103\n",
       "3      20\n",
       "4       6\n",
       "5       4\n",
       "6+      1\n",
       "Name: wc_sayısı, dtype: int64"
      ]
     },
     "execution_count": 84,
     "metadata": {},
     "output_type": "execute_result"
    }
   ],
   "source": [
    "df.wc_sayısı.value_counts()"
   ]
  },
  {
   "cell_type": "markdown",
   "metadata": {},
   "source": [
    "### Site İçerisinde"
   ]
  },
  {
   "cell_type": "code",
   "execution_count": 87,
   "metadata": {},
   "outputs": [
    {
     "data": {
      "image/png": "[encoded data removed]",
      "text/plain": [
       "<Figure size 1440x360 with 1 Axes>"
      ]
     },
     "metadata": {},
     "output_type": "display_data"
    }
   ],
   "source": [
    "fig = plt.figure(figsize=(20,5))\n",
    "df.site_içerisinde.value_counts().plot(kind = 'pie',autopct='%.1f%%')\n",
    "plt.ylabel(\"\", fontsize = 20)\n",
    "plt.title(\"Site Durumu\");"
   ]
  },
  {
   "cell_type": "markdown",
   "metadata": {},
   "source": [
    "### Eşya Durumu"
   ]
  },
  {
   "cell_type": "code",
   "execution_count": 89,
   "metadata": {},
   "outputs": [
    {
     "data": {
      "image/png": "[encoded data removed]",
      "text/plain": [
       "<Figure size 1440x360 with 1 Axes>"
      ]
     },
     "metadata": {},
     "output_type": "display_data"
    }
   ],
   "source": [
    "fig = plt.figure(figsize=(20,5))\n",
    "df.eşya_durumu.value_counts().plot(kind = 'pie',autopct='%.1f%%')\n",
    "plt.ylabel(\"\", fontsize = 20)\n",
    "plt.title(\"Eşya Durumu\");"
   ]
  },
  {
   "cell_type": "markdown",
   "metadata": {},
   "source": [
    "### Kullanım Durumu"
   ]
  },
  {
   "cell_type": "code",
   "execution_count": 91,
   "metadata": {},
   "outputs": [
    {
     "data": {
      "image/png": "[encoded data removed]",
      "text/plain": [
       "<Figure size 1440x360 with 1 Axes>"
      ]
     },
     "metadata": {},
     "output_type": "display_data"
    }
   ],
   "source": [
    "fig = plt.figure(figsize=(20,5))\n",
    "df.kullanım_durumu.value_counts().plot(kind = 'pie',autopct='%.1f%%')\n",
    "plt.ylabel(\"\", fontsize = 20)\n",
    "plt.title(\"Kullanım Durumu\");"
   ]
  },
  {
   "cell_type": "markdown",
   "metadata": {},
   "source": [
    "### Kredi Durumu"
   ]
  },
  {
   "cell_type": "code",
   "execution_count": 94,
   "metadata": {},
   "outputs": [
    {
     "data": {
      "image/png": "[encoded data removed]",
      "text/plain": [
       "<Figure size 1440x360 with 1 Axes>"
      ]
     },
     "metadata": {},
     "output_type": "display_data"
    }
   ],
   "source": [
    "fig = plt.figure(figsize=(20,5))\n",
    "df.krediye_uygunluk.value_counts().plot(kind = 'pie',autopct='%.1f%%')\n",
    "plt.ylabel(\"\", fontsize = 20)\n",
    "plt.title(\"Kredi Durumu\");"
   ]
  },
  {
   "cell_type": "markdown",
   "metadata": {},
   "source": [
    "### Yatırıma Uygunluk"
   ]
  },
  {
   "cell_type": "code",
   "execution_count": 95,
   "metadata": {},
   "outputs": [
    {
     "data": {
      "image/png": "[encoded data removed]",
      "text/plain": [
       "<Figure size 1440x360 with 1 Axes>"
      ]
     },
     "metadata": {},
     "output_type": "display_data"
    }
   ],
   "source": [
    "fig = plt.figure(figsize=(20,5))\n",
    "df.yatırıma_uygunluk.value_counts().plot(kind = 'pie',autopct='%.1f%%')\n",
    "plt.ylabel(\"\", fontsize = 20)\n",
    "plt.title(\"Yatırım Durumu\");"
   ]
  },
  {
   "cell_type": "markdown",
   "metadata": {},
   "source": [
    "### Yapı Tipi"
   ]
  },
  {
   "cell_type": "code",
   "execution_count": 97,
   "metadata": {},
   "outputs": [
    {
     "data": {
      "text/plain": [
       "Betonarme    803\n",
       "Taş Bina      11\n",
       "Ahşap          3\n",
       "Kagir          1\n",
       "Çelik          1\n",
       "Name: yapı_tipi, dtype: int64"
      ]
     },
     "execution_count": 97,
     "metadata": {},
     "output_type": "execute_result"
    }
   ],
   "source": [
    "df.yapı_tipi.value_counts()"
   ]
  },
  {
   "cell_type": "markdown",
   "metadata": {},
   "source": [
    "### Takas"
   ]
  },
  {
   "cell_type": "code",
   "execution_count": 99,
   "metadata": {},
   "outputs": [
    {
     "data": {
      "image/png": "[encoded data removed]",
      "text/plain": [
       "<Figure size 1440x360 with 1 Axes>"
      ]
     },
     "metadata": {},
     "output_type": "display_data"
    }
   ],
   "source": [
    "fig = plt.figure(figsize=(20,5))\n",
    "df.takas.value_counts().plot(kind = 'pie',autopct='%.1f%%')\n",
    "plt.ylabel(\"\", fontsize = 20)\n",
    "plt.title(\"Takas\");"
   ]
  },
  {
   "cell_type": "code",
   "execution_count": null,
   "metadata": {},
   "outputs": [],
   "source": []
  },
  {
   "cell_type": "code",
   "execution_count": null,
   "metadata": {},
   "outputs": [],
   "source": []
  },
  {
   "cell_type": "code",
   "execution_count": 3,
   "metadata": {},
   "outputs": [
    {
     "data": {
      "text/plain": [
       "<seaborn.axisgrid.FacetGrid at 0x1f595d79408>"
      ]
     },
     "execution_count": 3,
     "metadata": {},
     "output_type": "execute_result"
    },
    {
     "data": {
      "image/png": "[encoded data removed]",
      "text/plain": [
       "<Figure size 360x360 with 1 Axes>"
      ]
     },
     "metadata": {
      "needs_background": "light"
     },
     "output_type": "display_data"
    }
   ],
   "source": [
    "sns.lmplot(x='fiyat', y='alan', data=df)"
   ]
  },
  {
   "cell_type": "code",
   "execution_count": 78,
   "metadata": {},
   "outputs": [
    {
     "data": {
      "text/plain": [
       "<seaborn.axisgrid.FacetGrid at 0x1e1951d79c8>"
      ]
     },
     "execution_count": 78,
     "metadata": {},
     "output_type": "execute_result"
    },
    {
     "data": {
      "image/png": "[encoded data removed]",
      "text/plain": [
       "<Figure size 490.984x360 with 1 Axes>"
      ]
     },
     "metadata": {
      "needs_background": "light"
     },
     "output_type": "display_data"
    }
   ],
   "source": [
    "sns.lmplot(x = 'net_metrekare', y = 'alan', fit_reg = False, hue = 'yapı_durumu', data = df)"
   ]
  },
  {
   "cell_type": "code",
   "execution_count": 101,
   "metadata": {},
   "outputs": [
    {
     "data": {
      "text/plain": [
       "<matplotlib.axes._subplots.AxesSubplot at 0x1f59c995788>"
      ]
     },
     "execution_count": 101,
     "metadata": {},
     "output_type": "execute_result"
    },
    {
     "data": {
      "image/png": "[encoded data removed]",
      "text/plain": [
       "<Figure size 432x288 with 1 Axes>"
      ]
     },
     "metadata": {
      "needs_background": "light"
     },
     "output_type": "display_data"
    }
   ],
   "source": [
    "sns.countplot(x='kullanım_durumu', data=df)\n"
   ]
  },
  {
   "cell_type": "code",
   "execution_count": 30,
   "metadata": {},
   "outputs": [
    {
     "data": {
      "text/plain": [
       "<matplotlib.axes._subplots.AxesSubplot at 0x1f59ef21348>"
      ]
     },
     "execution_count": 30,
     "metadata": {},
     "output_type": "execute_result"
    },
    {
     "data": {
      "image/png": "[encoded data removed]",
      "text/plain": [
       "<Figure size 432x288 with 1 Axes>"
      ]
     },
     "metadata": {
      "needs_background": "light"
     },
     "output_type": "display_data"
    }
   ],
   "source": [
    "sns.barplot(x = \"bina_yaşı\", y = \"fiyat\", data = df)"
   ]
  },
  {
   "cell_type": "code",
   "execution_count": null,
   "metadata": {},
   "outputs": [],
   "source": []
  },
  {
   "cell_type": "code",
   "execution_count": null,
   "metadata": {},
   "outputs": [],
   "source": []
  },
  {
   "cell_type": "code",
   "execution_count": null,
   "metadata": {},
   "outputs": [],
   "source": []
  },
  {
   "cell_type": "code",
   "execution_count": null,
   "metadata": {},
   "outputs": [],
   "source": []
  },
  {
   "cell_type": "code",
   "execution_count": null,
   "metadata": {},
   "outputs": [],
   "source": []
  },
  {
   "cell_type": "code",
   "execution_count": null,
   "metadata": {},
   "outputs": [],
   "source": []
  },
  {
   "cell_type": "code",
   "execution_count": null,
   "metadata": {},
   "outputs": [],
   "source": []
  },
  {
   "cell_type": "code",
   "execution_count": null,
   "metadata": {},
   "outputs": [],
   "source": []
  }
 ],
 "metadata": {
  "kernelspec": {
   "display_name": "Python 3",
   "language": "python",
   "name": "python3"
  },
  "language_info": {
   "codemirror_mode": {
    "name": "ipython",
    "version": 3
   },
   "file_extension": ".py",
   "mimetype": "text/x-python",
   "name": "python",
   "nbconvert_exporter": "python",
   "pygments_lexer": "ipython3",
   "version": "3.7.4"
  }
 },
 "nbformat": 4,
 "nbformat_minor": 2
}
