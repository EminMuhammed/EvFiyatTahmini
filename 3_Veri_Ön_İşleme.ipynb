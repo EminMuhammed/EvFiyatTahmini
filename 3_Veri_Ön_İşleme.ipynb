{
 "cells": [
  {
   "cell_type": "markdown",
   "metadata": {},
   "source": [
    "# VERİLERİ DÜZENLEME"
   ]
  },
  {
   "cell_type": "markdown",
   "metadata": {},
   "source": [
    "## Gerekli Kütüphanelerin Eklenmesi\n",
    "## Veri Setinin Okunması"
   ]
  },
  {
   "cell_type": "code",
   "execution_count": 53,
   "metadata": {},
   "outputs": [],
   "source": [
    "# Kütüphanemizi Ekliyoruz."
   ]
  },
  {
   "cell_type": "code",
   "execution_count": 59,
   "metadata": {},
   "outputs": [],
   "source": [
    "import pandas as pd"
   ]
  },
  {
   "cell_type": "code",
   "execution_count": 60,
   "metadata": {},
   "outputs": [],
   "source": [
    "# Veri Setini Okuyarak işlemlere başlıyoruz."
   ]
  },
  {
   "cell_type": "code",
   "execution_count": 61,
   "metadata": {},
   "outputs": [
    {
     "data": {
      "text/html": [
       "<div>\n",
       "<style scoped>\n",
       "    .dataframe tbody tr th:only-of-type {\n",
       "        vertical-align: middle;\n",
       "    }\n",
       "\n",
       "    .dataframe tbody tr th {\n",
       "        vertical-align: top;\n",
       "    }\n",
       "\n",
       "    .dataframe thead th {\n",
       "        text-align: right;\n",
       "    }\n",
       "</style>\n",
       "<table border=\"1\" class=\"dataframe\">\n",
       "  <thead>\n",
       "    <tr style=\"text-align: right;\">\n",
       "      <th></th>\n",
       "      <th>ilçe</th>\n",
       "      <th>türü</th>\n",
       "      <th>kategori</th>\n",
       "      <th>cinsi</th>\n",
       "      <th>yapı_durumu</th>\n",
       "      <th>net_metrekare</th>\n",
       "      <th>alan</th>\n",
       "      <th>salon_metrekare</th>\n",
       "      <th>oda_sayısı</th>\n",
       "      <th>bina_yaşı</th>\n",
       "      <th>...</th>\n",
       "      <th>banyo_sayısı</th>\n",
       "      <th>wc_sayısı</th>\n",
       "      <th>site_içerisinde</th>\n",
       "      <th>eşya_durumu</th>\n",
       "      <th>kullanım_durumu</th>\n",
       "      <th>krediye_uygunluk</th>\n",
       "      <th>yatırıma_uygunluk</th>\n",
       "      <th>21</th>\n",
       "      <th>22</th>\n",
       "      <th>23</th>\n",
       "    </tr>\n",
       "  </thead>\n",
       "  <tbody>\n",
       "    <tr>\n",
       "      <td>0</td>\n",
       "      <td>çekmeköy</td>\n",
       "      <td>Daire</td>\n",
       "      <td>Satılık</td>\n",
       "      <td>Belirtilmemiş</td>\n",
       "      <td>İkinci El</td>\n",
       "      <td>165 m2</td>\n",
       "      <td>190 m2</td>\n",
       "      <td>Belirtilmemiş</td>\n",
       "      <td>4+1</td>\n",
       "      <td>20 Ve Üzeri</td>\n",
       "      <td>...</td>\n",
       "      <td>1</td>\n",
       "      <td>2</td>\n",
       "      <td>Evet</td>\n",
       "      <td>Belirtilmemiş</td>\n",
       "      <td>Mal Sahibi Oturuyor</td>\n",
       "      <td>KREDIYE UYGUN</td>\n",
       "      <td>Yatırıma Uygun</td>\n",
       "      <td>Belirtilmemiş</td>\n",
       "      <td>Yok</td>\n",
       "      <td>430.000</td>\n",
       "    </tr>\n",
       "    <tr>\n",
       "      <td>1</td>\n",
       "      <td>çekmeköy</td>\n",
       "      <td>Daire</td>\n",
       "      <td>Satılık</td>\n",
       "      <td>Belirtilmemiş</td>\n",
       "      <td>Sıfır</td>\n",
       "      <td>85 m2</td>\n",
       "      <td>95 m2</td>\n",
       "      <td>Belirtilmemiş</td>\n",
       "      <td>2+1</td>\n",
       "      <td>0 (Yeni)</td>\n",
       "      <td>...</td>\n",
       "      <td>1</td>\n",
       "      <td>1</td>\n",
       "      <td>Hayır</td>\n",
       "      <td>Boş</td>\n",
       "      <td>Boş</td>\n",
       "      <td>KREDIYE UYGUN</td>\n",
       "      <td>Belirtilmemiş</td>\n",
       "      <td>Betonarme</td>\n",
       "      <td>Var</td>\n",
       "      <td>239.000</td>\n",
       "    </tr>\n",
       "    <tr>\n",
       "      <td>2</td>\n",
       "      <td>çekmeköy</td>\n",
       "      <td>Daire</td>\n",
       "      <td>Satılık</td>\n",
       "      <td>Belirtilmemiş</td>\n",
       "      <td>Belirtilmemiş</td>\n",
       "      <td>130 m2</td>\n",
       "      <td>143 m2</td>\n",
       "      <td>Belirtilmemiş</td>\n",
       "      <td>3+1</td>\n",
       "      <td>11-20</td>\n",
       "      <td>...</td>\n",
       "      <td>2</td>\n",
       "      <td>Belirtilmemiş</td>\n",
       "      <td>Hayır</td>\n",
       "      <td>Boş</td>\n",
       "      <td>Boş</td>\n",
       "      <td>KREDIYE UYGUN</td>\n",
       "      <td>Bilinmiyor</td>\n",
       "      <td>Belirtilmemiş</td>\n",
       "      <td>Yok</td>\n",
       "      <td>400.000</td>\n",
       "    </tr>\n",
       "    <tr>\n",
       "      <td>3</td>\n",
       "      <td>çekmeköy</td>\n",
       "      <td>Daire</td>\n",
       "      <td>Satılık</td>\n",
       "      <td>Belirtilmemiş</td>\n",
       "      <td>Belirtilmemiş</td>\n",
       "      <td>92 m2</td>\n",
       "      <td>105 m2</td>\n",
       "      <td>Belirtilmemiş</td>\n",
       "      <td>2+1</td>\n",
       "      <td>0 (Yeni)</td>\n",
       "      <td>...</td>\n",
       "      <td>1</td>\n",
       "      <td>1</td>\n",
       "      <td>Hayır</td>\n",
       "      <td>Belirtilmemiş</td>\n",
       "      <td>Boş</td>\n",
       "      <td>KREDIYE UYGUN</td>\n",
       "      <td>Belirtilmemiş</td>\n",
       "      <td>Betonarme</td>\n",
       "      <td>Var</td>\n",
       "      <td>159.000</td>\n",
       "    </tr>\n",
       "    <tr>\n",
       "      <td>4</td>\n",
       "      <td>çekmeköy</td>\n",
       "      <td>Daire</td>\n",
       "      <td>Satılık</td>\n",
       "      <td>Belirtilmemiş</td>\n",
       "      <td>Sıfır</td>\n",
       "      <td>120 m2</td>\n",
       "      <td>140 m2</td>\n",
       "      <td>22</td>\n",
       "      <td>3+2</td>\n",
       "      <td>2</td>\n",
       "      <td>...</td>\n",
       "      <td>1</td>\n",
       "      <td>1</td>\n",
       "      <td>Hayır</td>\n",
       "      <td>Boş</td>\n",
       "      <td>Boş</td>\n",
       "      <td>KREDIYE UYGUN</td>\n",
       "      <td>Yatırıma Uygun</td>\n",
       "      <td>Betonarme</td>\n",
       "      <td>Var</td>\n",
       "      <td>385.000</td>\n",
       "    </tr>\n",
       "  </tbody>\n",
       "</table>\n",
       "<p>5 rows × 25 columns</p>\n",
       "</div>"
      ],
      "text/plain": [
       "       ilçe   türü kategori          cinsi    yapı_durumu net_metrekare  \\\n",
       "0  çekmeköy  Daire  Satılık  Belirtilmemiş      İkinci El        165 m2   \n",
       "1  çekmeköy  Daire  Satılık  Belirtilmemiş          Sıfır         85 m2   \n",
       "2  çekmeköy  Daire  Satılık  Belirtilmemiş  Belirtilmemiş        130 m2   \n",
       "3  çekmeköy  Daire  Satılık  Belirtilmemiş  Belirtilmemiş         92 m2   \n",
       "4  çekmeköy  Daire  Satılık  Belirtilmemiş          Sıfır        120 m2   \n",
       "\n",
       "     alan salon_metrekare oda_sayısı    bina_yaşı  ... banyo_sayısı  \\\n",
       "0  190 m2   Belirtilmemiş        4+1  20 Ve Üzeri  ...            1   \n",
       "1   95 m2   Belirtilmemiş        2+1     0 (Yeni)  ...            1   \n",
       "2  143 m2   Belirtilmemiş        3+1        11-20  ...            2   \n",
       "3  105 m2   Belirtilmemiş        2+1     0 (Yeni)  ...            1   \n",
       "4  140 m2              22        3+2            2  ...            1   \n",
       "\n",
       "       wc_sayısı site_içerisinde    eşya_durumu      kullanım_durumu  \\\n",
       "0              2            Evet  Belirtilmemiş  Mal Sahibi Oturuyor   \n",
       "1              1           Hayır            Boş                  Boş   \n",
       "2  Belirtilmemiş           Hayır            Boş                  Boş   \n",
       "3              1           Hayır  Belirtilmemiş                  Boş   \n",
       "4              1           Hayır            Boş                  Boş   \n",
       "\n",
       "  krediye_uygunluk yatırıma_uygunluk             21   22       23  \n",
       "0    KREDIYE UYGUN    Yatırıma Uygun  Belirtilmemiş  Yok  430.000  \n",
       "1    KREDIYE UYGUN     Belirtilmemiş      Betonarme  Var  239.000  \n",
       "2    KREDIYE UYGUN        Bilinmiyor  Belirtilmemiş  Yok  400.000  \n",
       "3    KREDIYE UYGUN     Belirtilmemiş      Betonarme  Var  159.000  \n",
       "4    KREDIYE UYGUN    Yatırıma Uygun      Betonarme  Var  385.000  \n",
       "\n",
       "[5 rows x 25 columns]"
      ]
     },
     "execution_count": 61,
     "metadata": {},
     "output_type": "execute_result"
    }
   ],
   "source": [
    "df = pd.read_excel(\"ilçeler.xlsx\")\n",
    "df.drop(\"Unnamed: 0\", axis = 1, inplace = True)\n",
    "df.head()"
   ]
  },
  {
   "cell_type": "code",
   "execution_count": 62,
   "metadata": {},
   "outputs": [
    {
     "data": {
      "text/html": [
       "<div>\n",
       "<style scoped>\n",
       "    .dataframe tbody tr th:only-of-type {\n",
       "        vertical-align: middle;\n",
       "    }\n",
       "\n",
       "    .dataframe tbody tr th {\n",
       "        vertical-align: top;\n",
       "    }\n",
       "\n",
       "    .dataframe thead th {\n",
       "        text-align: right;\n",
       "    }\n",
       "</style>\n",
       "<table border=\"1\" class=\"dataframe\">\n",
       "  <thead>\n",
       "    <tr style=\"text-align: right;\">\n",
       "      <th></th>\n",
       "      <th>ilçe</th>\n",
       "      <th>türü</th>\n",
       "      <th>kategori</th>\n",
       "      <th>cinsi</th>\n",
       "      <th>yapı_durumu</th>\n",
       "      <th>net_metrekare</th>\n",
       "      <th>alan</th>\n",
       "      <th>salon_metrekare</th>\n",
       "      <th>oda_sayısı</th>\n",
       "      <th>bina_yaşı</th>\n",
       "      <th>...</th>\n",
       "      <th>banyo_sayısı</th>\n",
       "      <th>wc_sayısı</th>\n",
       "      <th>site_içerisinde</th>\n",
       "      <th>eşya_durumu</th>\n",
       "      <th>kullanım_durumu</th>\n",
       "      <th>krediye_uygunluk</th>\n",
       "      <th>yatırıma_uygunluk</th>\n",
       "      <th>21</th>\n",
       "      <th>22</th>\n",
       "      <th>23</th>\n",
       "    </tr>\n",
       "  </thead>\n",
       "  <tbody>\n",
       "    <tr>\n",
       "      <td>0</td>\n",
       "      <td>çekmeköy</td>\n",
       "      <td>Daire</td>\n",
       "      <td>Satılık</td>\n",
       "      <td>Belirtilmemiş</td>\n",
       "      <td>İkinci El</td>\n",
       "      <td>165 m2</td>\n",
       "      <td>190 m2</td>\n",
       "      <td>Belirtilmemiş</td>\n",
       "      <td>4+1</td>\n",
       "      <td>20 Ve Üzeri</td>\n",
       "      <td>...</td>\n",
       "      <td>1</td>\n",
       "      <td>2</td>\n",
       "      <td>Evet</td>\n",
       "      <td>Belirtilmemiş</td>\n",
       "      <td>Mal Sahibi Oturuyor</td>\n",
       "      <td>KREDIYE UYGUN</td>\n",
       "      <td>Yatırıma Uygun</td>\n",
       "      <td>Belirtilmemiş</td>\n",
       "      <td>Yok</td>\n",
       "      <td>430.000</td>\n",
       "    </tr>\n",
       "    <tr>\n",
       "      <td>1</td>\n",
       "      <td>çekmeköy</td>\n",
       "      <td>Daire</td>\n",
       "      <td>Satılık</td>\n",
       "      <td>Belirtilmemiş</td>\n",
       "      <td>Sıfır</td>\n",
       "      <td>85 m2</td>\n",
       "      <td>95 m2</td>\n",
       "      <td>Belirtilmemiş</td>\n",
       "      <td>2+1</td>\n",
       "      <td>0 (Yeni)</td>\n",
       "      <td>...</td>\n",
       "      <td>1</td>\n",
       "      <td>1</td>\n",
       "      <td>Hayır</td>\n",
       "      <td>Boş</td>\n",
       "      <td>Boş</td>\n",
       "      <td>KREDIYE UYGUN</td>\n",
       "      <td>Belirtilmemiş</td>\n",
       "      <td>Betonarme</td>\n",
       "      <td>Var</td>\n",
       "      <td>239.000</td>\n",
       "    </tr>\n",
       "    <tr>\n",
       "      <td>2</td>\n",
       "      <td>çekmeköy</td>\n",
       "      <td>Daire</td>\n",
       "      <td>Satılık</td>\n",
       "      <td>Belirtilmemiş</td>\n",
       "      <td>Belirtilmemiş</td>\n",
       "      <td>130 m2</td>\n",
       "      <td>143 m2</td>\n",
       "      <td>Belirtilmemiş</td>\n",
       "      <td>3+1</td>\n",
       "      <td>11-20</td>\n",
       "      <td>...</td>\n",
       "      <td>2</td>\n",
       "      <td>Belirtilmemiş</td>\n",
       "      <td>Hayır</td>\n",
       "      <td>Boş</td>\n",
       "      <td>Boş</td>\n",
       "      <td>KREDIYE UYGUN</td>\n",
       "      <td>Bilinmiyor</td>\n",
       "      <td>Belirtilmemiş</td>\n",
       "      <td>Yok</td>\n",
       "      <td>400.000</td>\n",
       "    </tr>\n",
       "    <tr>\n",
       "      <td>3</td>\n",
       "      <td>çekmeköy</td>\n",
       "      <td>Daire</td>\n",
       "      <td>Satılık</td>\n",
       "      <td>Belirtilmemiş</td>\n",
       "      <td>Belirtilmemiş</td>\n",
       "      <td>92 m2</td>\n",
       "      <td>105 m2</td>\n",
       "      <td>Belirtilmemiş</td>\n",
       "      <td>2+1</td>\n",
       "      <td>0 (Yeni)</td>\n",
       "      <td>...</td>\n",
       "      <td>1</td>\n",
       "      <td>1</td>\n",
       "      <td>Hayır</td>\n",
       "      <td>Belirtilmemiş</td>\n",
       "      <td>Boş</td>\n",
       "      <td>KREDIYE UYGUN</td>\n",
       "      <td>Belirtilmemiş</td>\n",
       "      <td>Betonarme</td>\n",
       "      <td>Var</td>\n",
       "      <td>159.000</td>\n",
       "    </tr>\n",
       "    <tr>\n",
       "      <td>4</td>\n",
       "      <td>çekmeköy</td>\n",
       "      <td>Daire</td>\n",
       "      <td>Satılık</td>\n",
       "      <td>Belirtilmemiş</td>\n",
       "      <td>Sıfır</td>\n",
       "      <td>120 m2</td>\n",
       "      <td>140 m2</td>\n",
       "      <td>22</td>\n",
       "      <td>3+2</td>\n",
       "      <td>2</td>\n",
       "      <td>...</td>\n",
       "      <td>1</td>\n",
       "      <td>1</td>\n",
       "      <td>Hayır</td>\n",
       "      <td>Boş</td>\n",
       "      <td>Boş</td>\n",
       "      <td>KREDIYE UYGUN</td>\n",
       "      <td>Yatırıma Uygun</td>\n",
       "      <td>Betonarme</td>\n",
       "      <td>Var</td>\n",
       "      <td>385.000</td>\n",
       "    </tr>\n",
       "    <tr>\n",
       "      <td>...</td>\n",
       "      <td>...</td>\n",
       "      <td>...</td>\n",
       "      <td>...</td>\n",
       "      <td>...</td>\n",
       "      <td>...</td>\n",
       "      <td>...</td>\n",
       "      <td>...</td>\n",
       "      <td>...</td>\n",
       "      <td>...</td>\n",
       "      <td>...</td>\n",
       "      <td>...</td>\n",
       "      <td>...</td>\n",
       "      <td>...</td>\n",
       "      <td>...</td>\n",
       "      <td>...</td>\n",
       "      <td>...</td>\n",
       "      <td>...</td>\n",
       "      <td>...</td>\n",
       "      <td>...</td>\n",
       "      <td>...</td>\n",
       "      <td>...</td>\n",
       "    </tr>\n",
       "    <tr>\n",
       "      <td>816</td>\n",
       "      <td>zeytinburnu</td>\n",
       "      <td>Daire</td>\n",
       "      <td>Satılık</td>\n",
       "      <td>Belirtilmemiş</td>\n",
       "      <td>Belirtilmemiş</td>\n",
       "      <td>85 m2</td>\n",
       "      <td>103 m2</td>\n",
       "      <td>Belirtilmemiş</td>\n",
       "      <td>2+1</td>\n",
       "      <td>5-10</td>\n",
       "      <td>...</td>\n",
       "      <td>2</td>\n",
       "      <td>Belirtilmemiş</td>\n",
       "      <td>Hayır</td>\n",
       "      <td>Boş</td>\n",
       "      <td>Kiracı Oturuyor</td>\n",
       "      <td>KREDIYE UYGUN</td>\n",
       "      <td>Bilinmiyor</td>\n",
       "      <td>Belirtilmemiş</td>\n",
       "      <td>Bel</td>\n",
       "      <td>750.000</td>\n",
       "    </tr>\n",
       "    <tr>\n",
       "      <td>817</td>\n",
       "      <td>zeytinburnu</td>\n",
       "      <td>Residence</td>\n",
       "      <td>Satılık</td>\n",
       "      <td>Belirtilmemiş</td>\n",
       "      <td>İkinci El</td>\n",
       "      <td>25 m2</td>\n",
       "      <td>41 m2</td>\n",
       "      <td>Belirtilmemiş</td>\n",
       "      <td>1</td>\n",
       "      <td>3</td>\n",
       "      <td>...</td>\n",
       "      <td>1</td>\n",
       "      <td>Belirtilmemiş</td>\n",
       "      <td>Hayır</td>\n",
       "      <td>Eşyalı</td>\n",
       "      <td>Kiracı Oturuyor</td>\n",
       "      <td>KREDIYE UYGUN</td>\n",
       "      <td>Bilinmiyor</td>\n",
       "      <td>Taş Bina</td>\n",
       "      <td>Bel</td>\n",
       "      <td>360.000</td>\n",
       "    </tr>\n",
       "    <tr>\n",
       "      <td>818</td>\n",
       "      <td>zeytinburnu</td>\n",
       "      <td>Daire</td>\n",
       "      <td>Satılık</td>\n",
       "      <td>Belirtilmemiş</td>\n",
       "      <td>Belirtilmemiş</td>\n",
       "      <td>65 m2</td>\n",
       "      <td>74 m2</td>\n",
       "      <td>Belirtilmemiş</td>\n",
       "      <td>1+1</td>\n",
       "      <td>5-10</td>\n",
       "      <td>...</td>\n",
       "      <td>1</td>\n",
       "      <td>Belirtilmemiş</td>\n",
       "      <td>Hayır</td>\n",
       "      <td>Boş</td>\n",
       "      <td>Kiracı Oturuyor</td>\n",
       "      <td>KREDIYE UYGUN</td>\n",
       "      <td>Bilinmiyor</td>\n",
       "      <td>Belirtilmemiş</td>\n",
       "      <td>Bel</td>\n",
       "      <td>550.000</td>\n",
       "    </tr>\n",
       "    <tr>\n",
       "      <td>819</td>\n",
       "      <td>zeytinburnu</td>\n",
       "      <td>Daire</td>\n",
       "      <td>Satılık</td>\n",
       "      <td>Belirtilmemiş</td>\n",
       "      <td>Belirtilmemiş</td>\n",
       "      <td>85 m2</td>\n",
       "      <td>103 m2</td>\n",
       "      <td>Belirtilmemiş</td>\n",
       "      <td>2+1</td>\n",
       "      <td>5-10</td>\n",
       "      <td>...</td>\n",
       "      <td>2</td>\n",
       "      <td>Belirtilmemiş</td>\n",
       "      <td>Hayır</td>\n",
       "      <td>Boş</td>\n",
       "      <td>Kiracı Oturuyor</td>\n",
       "      <td>KREDIYE UYGUN</td>\n",
       "      <td>Bilinmiyor</td>\n",
       "      <td>Belirtilmemiş</td>\n",
       "      <td>Bel</td>\n",
       "      <td>700.000</td>\n",
       "    </tr>\n",
       "    <tr>\n",
       "      <td>820</td>\n",
       "      <td>zeytinburnu</td>\n",
       "      <td>Daire</td>\n",
       "      <td>Satılık</td>\n",
       "      <td>Belirtilmemiş</td>\n",
       "      <td>Belirtilmemiş</td>\n",
       "      <td>74 m2</td>\n",
       "      <td>96 m2</td>\n",
       "      <td>Belirtilmemiş</td>\n",
       "      <td>1+1</td>\n",
       "      <td>5-10</td>\n",
       "      <td>...</td>\n",
       "      <td>1</td>\n",
       "      <td>Belirtilmemiş</td>\n",
       "      <td>Hayır</td>\n",
       "      <td>Boş</td>\n",
       "      <td>Boş</td>\n",
       "      <td>KREDIYE UYGUN</td>\n",
       "      <td>Bilinmiyor</td>\n",
       "      <td>Belirtilmemiş</td>\n",
       "      <td>Bel</td>\n",
       "      <td>600.000</td>\n",
       "    </tr>\n",
       "  </tbody>\n",
       "</table>\n",
       "<p>821 rows × 25 columns</p>\n",
       "</div>"
      ],
      "text/plain": [
       "            ilçe       türü kategori          cinsi    yapı_durumu  \\\n",
       "0       çekmeköy      Daire  Satılık  Belirtilmemiş      İkinci El   \n",
       "1       çekmeköy      Daire  Satılık  Belirtilmemiş          Sıfır   \n",
       "2       çekmeköy      Daire  Satılık  Belirtilmemiş  Belirtilmemiş   \n",
       "3       çekmeköy      Daire  Satılık  Belirtilmemiş  Belirtilmemiş   \n",
       "4       çekmeköy      Daire  Satılık  Belirtilmemiş          Sıfır   \n",
       "..           ...        ...      ...            ...            ...   \n",
       "816  zeytinburnu      Daire  Satılık  Belirtilmemiş  Belirtilmemiş   \n",
       "817  zeytinburnu  Residence  Satılık  Belirtilmemiş      İkinci El   \n",
       "818  zeytinburnu      Daire  Satılık  Belirtilmemiş  Belirtilmemiş   \n",
       "819  zeytinburnu      Daire  Satılık  Belirtilmemiş  Belirtilmemiş   \n",
       "820  zeytinburnu      Daire  Satılık  Belirtilmemiş  Belirtilmemiş   \n",
       "\n",
       "    net_metrekare    alan salon_metrekare oda_sayısı    bina_yaşı  ...  \\\n",
       "0          165 m2  190 m2   Belirtilmemiş        4+1  20 Ve Üzeri  ...   \n",
       "1           85 m2   95 m2   Belirtilmemiş        2+1     0 (Yeni)  ...   \n",
       "2          130 m2  143 m2   Belirtilmemiş        3+1        11-20  ...   \n",
       "3           92 m2  105 m2   Belirtilmemiş        2+1     0 (Yeni)  ...   \n",
       "4          120 m2  140 m2              22        3+2            2  ...   \n",
       "..            ...     ...             ...        ...          ...  ...   \n",
       "816         85 m2  103 m2   Belirtilmemiş        2+1         5-10  ...   \n",
       "817         25 m2   41 m2   Belirtilmemiş          1            3  ...   \n",
       "818         65 m2   74 m2   Belirtilmemiş        1+1         5-10  ...   \n",
       "819         85 m2  103 m2   Belirtilmemiş        2+1         5-10  ...   \n",
       "820         74 m2   96 m2   Belirtilmemiş        1+1         5-10  ...   \n",
       "\n",
       "    banyo_sayısı      wc_sayısı site_içerisinde    eşya_durumu  \\\n",
       "0              1              2            Evet  Belirtilmemiş   \n",
       "1              1              1           Hayır            Boş   \n",
       "2              2  Belirtilmemiş           Hayır            Boş   \n",
       "3              1              1           Hayır  Belirtilmemiş   \n",
       "4              1              1           Hayır            Boş   \n",
       "..           ...            ...             ...            ...   \n",
       "816            2  Belirtilmemiş           Hayır            Boş   \n",
       "817            1  Belirtilmemiş           Hayır         Eşyalı   \n",
       "818            1  Belirtilmemiş           Hayır            Boş   \n",
       "819            2  Belirtilmemiş           Hayır            Boş   \n",
       "820            1  Belirtilmemiş           Hayır            Boş   \n",
       "\n",
       "         kullanım_durumu krediye_uygunluk yatırıma_uygunluk             21  \\\n",
       "0    Mal Sahibi Oturuyor    KREDIYE UYGUN    Yatırıma Uygun  Belirtilmemiş   \n",
       "1                    Boş    KREDIYE UYGUN     Belirtilmemiş      Betonarme   \n",
       "2                    Boş    KREDIYE UYGUN        Bilinmiyor  Belirtilmemiş   \n",
       "3                    Boş    KREDIYE UYGUN     Belirtilmemiş      Betonarme   \n",
       "4                    Boş    KREDIYE UYGUN    Yatırıma Uygun      Betonarme   \n",
       "..                   ...              ...               ...            ...   \n",
       "816      Kiracı Oturuyor    KREDIYE UYGUN        Bilinmiyor  Belirtilmemiş   \n",
       "817      Kiracı Oturuyor    KREDIYE UYGUN        Bilinmiyor       Taş Bina   \n",
       "818      Kiracı Oturuyor    KREDIYE UYGUN        Bilinmiyor  Belirtilmemiş   \n",
       "819      Kiracı Oturuyor    KREDIYE UYGUN        Bilinmiyor  Belirtilmemiş   \n",
       "820                  Boş    KREDIYE UYGUN        Bilinmiyor  Belirtilmemiş   \n",
       "\n",
       "      22       23  \n",
       "0    Yok  430.000  \n",
       "1    Var  239.000  \n",
       "2    Yok  400.000  \n",
       "3    Var  159.000  \n",
       "4    Var  385.000  \n",
       "..   ...      ...  \n",
       "816  Bel  750.000  \n",
       "817  Bel  360.000  \n",
       "818  Bel  550.000  \n",
       "819  Bel  700.000  \n",
       "820  Bel  600.000  \n",
       "\n",
       "[821 rows x 25 columns]"
      ]
     },
     "execution_count": 62,
     "metadata": {},
     "output_type": "execute_result"
    }
   ],
   "source": [
    "df"
   ]
  },
  {
   "cell_type": "markdown",
   "metadata": {},
   "source": [
    "#### Sütun Adlarını Düzenleme"
   ]
  },
  {
   "cell_type": "code",
   "execution_count": 63,
   "metadata": {},
   "outputs": [],
   "source": [
    "df_2 = df.rename(columns = {\"0\":\"türü\",\n",
    "                     \"1\":\"kategori\",\n",
    "                     \"2\":\"cinsi\",\n",
    "                     \"3\":\"yapı_durumu\",\n",
    "                     \"4\":\"net_metrekare\",\n",
    "                     \"5\":\"alan\",\n",
    "                     \"6\":\"salon_metrekare\",\n",
    "                     \"7\":\"oda_sayısı\",\n",
    "                     \"8\":\"bina_yaşı\",\n",
    "                     \"9\":\"dairenin_katı\",\n",
    "                     \"10\":\"kat_sayısı\",\n",
    "                     \"11\":\"ısıtma\",\n",
    "                     \"12\":\"aidat\",\n",
    "                     \"13\":\"kira_getirisi\",\n",
    "                     \"14\":\"banyo_sayısı\",\n",
    "                     \"15\":\"wc_sayısı\",\n",
    "                     \"16\":\"site_içerisinde\",\n",
    "                     \"17\":\"eşya_durumu\",\n",
    "                     \"18\":\"kullanım_durumu\",\n",
    "                     \"19\":\"krediye_uygunluk\",\n",
    "                     \"20\":\"yatırıma_uygunluk\",\n",
    "                     \"21\":\"yapı_tipi\",\n",
    "                     \"22\":\"takas\",\n",
    "                     \"23\":\"fiyat\"})"
   ]
  },
  {
   "cell_type": "code",
   "execution_count": 64,
   "metadata": {},
   "outputs": [
    {
     "data": {
      "text/html": [
       "<div>\n",
       "<style scoped>\n",
       "    .dataframe tbody tr th:only-of-type {\n",
       "        vertical-align: middle;\n",
       "    }\n",
       "\n",
       "    .dataframe tbody tr th {\n",
       "        vertical-align: top;\n",
       "    }\n",
       "\n",
       "    .dataframe thead th {\n",
       "        text-align: right;\n",
       "    }\n",
       "</style>\n",
       "<table border=\"1\" class=\"dataframe\">\n",
       "  <thead>\n",
       "    <tr style=\"text-align: right;\">\n",
       "      <th></th>\n",
       "      <th>ilçe</th>\n",
       "      <th>türü</th>\n",
       "      <th>kategori</th>\n",
       "      <th>cinsi</th>\n",
       "      <th>yapı_durumu</th>\n",
       "      <th>net_metrekare</th>\n",
       "      <th>alan</th>\n",
       "      <th>salon_metrekare</th>\n",
       "      <th>oda_sayısı</th>\n",
       "      <th>bina_yaşı</th>\n",
       "      <th>...</th>\n",
       "      <th>banyo_sayısı</th>\n",
       "      <th>wc_sayısı</th>\n",
       "      <th>site_içerisinde</th>\n",
       "      <th>eşya_durumu</th>\n",
       "      <th>kullanım_durumu</th>\n",
       "      <th>krediye_uygunluk</th>\n",
       "      <th>yatırıma_uygunluk</th>\n",
       "      <th>yapı_tipi</th>\n",
       "      <th>takas</th>\n",
       "      <th>fiyat</th>\n",
       "    </tr>\n",
       "  </thead>\n",
       "  <tbody>\n",
       "    <tr>\n",
       "      <td>0</td>\n",
       "      <td>çekmeköy</td>\n",
       "      <td>Daire</td>\n",
       "      <td>Satılık</td>\n",
       "      <td>Belirtilmemiş</td>\n",
       "      <td>İkinci El</td>\n",
       "      <td>165 m2</td>\n",
       "      <td>190 m2</td>\n",
       "      <td>Belirtilmemiş</td>\n",
       "      <td>4+1</td>\n",
       "      <td>20 Ve Üzeri</td>\n",
       "      <td>...</td>\n",
       "      <td>1</td>\n",
       "      <td>2</td>\n",
       "      <td>Evet</td>\n",
       "      <td>Belirtilmemiş</td>\n",
       "      <td>Mal Sahibi Oturuyor</td>\n",
       "      <td>KREDIYE UYGUN</td>\n",
       "      <td>Yatırıma Uygun</td>\n",
       "      <td>Belirtilmemiş</td>\n",
       "      <td>Yok</td>\n",
       "      <td>430.000</td>\n",
       "    </tr>\n",
       "    <tr>\n",
       "      <td>1</td>\n",
       "      <td>çekmeköy</td>\n",
       "      <td>Daire</td>\n",
       "      <td>Satılık</td>\n",
       "      <td>Belirtilmemiş</td>\n",
       "      <td>Sıfır</td>\n",
       "      <td>85 m2</td>\n",
       "      <td>95 m2</td>\n",
       "      <td>Belirtilmemiş</td>\n",
       "      <td>2+1</td>\n",
       "      <td>0 (Yeni)</td>\n",
       "      <td>...</td>\n",
       "      <td>1</td>\n",
       "      <td>1</td>\n",
       "      <td>Hayır</td>\n",
       "      <td>Boş</td>\n",
       "      <td>Boş</td>\n",
       "      <td>KREDIYE UYGUN</td>\n",
       "      <td>Belirtilmemiş</td>\n",
       "      <td>Betonarme</td>\n",
       "      <td>Var</td>\n",
       "      <td>239.000</td>\n",
       "    </tr>\n",
       "    <tr>\n",
       "      <td>2</td>\n",
       "      <td>çekmeköy</td>\n",
       "      <td>Daire</td>\n",
       "      <td>Satılık</td>\n",
       "      <td>Belirtilmemiş</td>\n",
       "      <td>Belirtilmemiş</td>\n",
       "      <td>130 m2</td>\n",
       "      <td>143 m2</td>\n",
       "      <td>Belirtilmemiş</td>\n",
       "      <td>3+1</td>\n",
       "      <td>11-20</td>\n",
       "      <td>...</td>\n",
       "      <td>2</td>\n",
       "      <td>Belirtilmemiş</td>\n",
       "      <td>Hayır</td>\n",
       "      <td>Boş</td>\n",
       "      <td>Boş</td>\n",
       "      <td>KREDIYE UYGUN</td>\n",
       "      <td>Bilinmiyor</td>\n",
       "      <td>Belirtilmemiş</td>\n",
       "      <td>Yok</td>\n",
       "      <td>400.000</td>\n",
       "    </tr>\n",
       "    <tr>\n",
       "      <td>3</td>\n",
       "      <td>çekmeköy</td>\n",
       "      <td>Daire</td>\n",
       "      <td>Satılık</td>\n",
       "      <td>Belirtilmemiş</td>\n",
       "      <td>Belirtilmemiş</td>\n",
       "      <td>92 m2</td>\n",
       "      <td>105 m2</td>\n",
       "      <td>Belirtilmemiş</td>\n",
       "      <td>2+1</td>\n",
       "      <td>0 (Yeni)</td>\n",
       "      <td>...</td>\n",
       "      <td>1</td>\n",
       "      <td>1</td>\n",
       "      <td>Hayır</td>\n",
       "      <td>Belirtilmemiş</td>\n",
       "      <td>Boş</td>\n",
       "      <td>KREDIYE UYGUN</td>\n",
       "      <td>Belirtilmemiş</td>\n",
       "      <td>Betonarme</td>\n",
       "      <td>Var</td>\n",
       "      <td>159.000</td>\n",
       "    </tr>\n",
       "    <tr>\n",
       "      <td>4</td>\n",
       "      <td>çekmeköy</td>\n",
       "      <td>Daire</td>\n",
       "      <td>Satılık</td>\n",
       "      <td>Belirtilmemiş</td>\n",
       "      <td>Sıfır</td>\n",
       "      <td>120 m2</td>\n",
       "      <td>140 m2</td>\n",
       "      <td>22</td>\n",
       "      <td>3+2</td>\n",
       "      <td>2</td>\n",
       "      <td>...</td>\n",
       "      <td>1</td>\n",
       "      <td>1</td>\n",
       "      <td>Hayır</td>\n",
       "      <td>Boş</td>\n",
       "      <td>Boş</td>\n",
       "      <td>KREDIYE UYGUN</td>\n",
       "      <td>Yatırıma Uygun</td>\n",
       "      <td>Betonarme</td>\n",
       "      <td>Var</td>\n",
       "      <td>385.000</td>\n",
       "    </tr>\n",
       "  </tbody>\n",
       "</table>\n",
       "<p>5 rows × 25 columns</p>\n",
       "</div>"
      ],
      "text/plain": [
       "       ilçe   türü kategori          cinsi    yapı_durumu net_metrekare  \\\n",
       "0  çekmeköy  Daire  Satılık  Belirtilmemiş      İkinci El        165 m2   \n",
       "1  çekmeköy  Daire  Satılık  Belirtilmemiş          Sıfır         85 m2   \n",
       "2  çekmeköy  Daire  Satılık  Belirtilmemiş  Belirtilmemiş        130 m2   \n",
       "3  çekmeköy  Daire  Satılık  Belirtilmemiş  Belirtilmemiş         92 m2   \n",
       "4  çekmeköy  Daire  Satılık  Belirtilmemiş          Sıfır        120 m2   \n",
       "\n",
       "     alan salon_metrekare oda_sayısı    bina_yaşı  ... banyo_sayısı  \\\n",
       "0  190 m2   Belirtilmemiş        4+1  20 Ve Üzeri  ...            1   \n",
       "1   95 m2   Belirtilmemiş        2+1     0 (Yeni)  ...            1   \n",
       "2  143 m2   Belirtilmemiş        3+1        11-20  ...            2   \n",
       "3  105 m2   Belirtilmemiş        2+1     0 (Yeni)  ...            1   \n",
       "4  140 m2              22        3+2            2  ...            1   \n",
       "\n",
       "       wc_sayısı site_içerisinde    eşya_durumu      kullanım_durumu  \\\n",
       "0              2            Evet  Belirtilmemiş  Mal Sahibi Oturuyor   \n",
       "1              1           Hayır            Boş                  Boş   \n",
       "2  Belirtilmemiş           Hayır            Boş                  Boş   \n",
       "3              1           Hayır  Belirtilmemiş                  Boş   \n",
       "4              1           Hayır            Boş                  Boş   \n",
       "\n",
       "  krediye_uygunluk yatırıma_uygunluk      yapı_tipi takas    fiyat  \n",
       "0    KREDIYE UYGUN    Yatırıma Uygun  Belirtilmemiş   Yok  430.000  \n",
       "1    KREDIYE UYGUN     Belirtilmemiş      Betonarme   Var  239.000  \n",
       "2    KREDIYE UYGUN        Bilinmiyor  Belirtilmemiş   Yok  400.000  \n",
       "3    KREDIYE UYGUN     Belirtilmemiş      Betonarme   Var  159.000  \n",
       "4    KREDIYE UYGUN    Yatırıma Uygun      Betonarme   Var  385.000  \n",
       "\n",
       "[5 rows x 25 columns]"
      ]
     },
     "execution_count": 64,
     "metadata": {},
     "output_type": "execute_result"
    }
   ],
   "source": [
    "df_2.head()"
   ]
  },
  {
   "cell_type": "code",
   "execution_count": 65,
   "metadata": {},
   "outputs": [
    {
     "data": {
      "text/plain": [
       "Index(['ilçe', 'türü', 'kategori', 'cinsi', 'yapı_durumu', 'net_metrekare',\n",
       "       'alan', 'salon_metrekare', 'oda_sayısı', 'bina_yaşı', 'dairenin_katı',\n",
       "       'kat_sayısı', 'ısıtma  ', 'aidat', 'kira_getirisi', 'banyo_sayısı',\n",
       "       'wc_sayısı', 'site_içerisinde', 'eşya_durumu', 'kullanım_durumu',\n",
       "       'krediye_uygunluk', 'yatırıma_uygunluk', 'yapı_tipi', 'takas', 'fiyat'],\n",
       "      dtype='object')"
      ]
     },
     "execution_count": 65,
     "metadata": {},
     "output_type": "execute_result"
    }
   ],
   "source": [
    "df_2.columns"
   ]
  },
  {
   "cell_type": "markdown",
   "metadata": {},
   "source": [
    "#### Sütunlarda Ve Verilerde İşlemler"
   ]
  },
  {
   "cell_type": "code",
   "execution_count": 66,
   "metadata": {},
   "outputs": [],
   "source": [
    "# gereksiz olduğu için kaldırdık."
   ]
  },
  {
   "cell_type": "code",
   "execution_count": 67,
   "metadata": {},
   "outputs": [
    {
     "data": {
      "text/plain": [
       "array(['Belirtilmemiş'], dtype=object)"
      ]
     },
     "execution_count": 67,
     "metadata": {},
     "output_type": "execute_result"
    }
   ],
   "source": [
    "df_2.cinsi.unique()"
   ]
  },
  {
   "cell_type": "code",
   "execution_count": 196,
   "metadata": {},
   "outputs": [],
   "source": [
    "df_2.drop(\"cinsi\", axis = 1, inplace = True)"
   ]
  },
  {
   "cell_type": "code",
   "execution_count": 8,
   "metadata": {},
   "outputs": [],
   "source": [
    "# belirtilmemiş yazanları ikinci el yaptık."
   ]
  },
  {
   "cell_type": "code",
   "execution_count": 68,
   "metadata": {},
   "outputs": [
    {
     "data": {
      "text/plain": [
       "Belirtilmemiş       402\n",
       "İkinci El           261\n",
       "Sıfır               157\n",
       "Yapım Aşamasında      1\n",
       "Name: yapı_durumu, dtype: int64"
      ]
     },
     "execution_count": 68,
     "metadata": {},
     "output_type": "execute_result"
    }
   ],
   "source": [
    "df_2.yapı_durumu.value_counts()"
   ]
  },
  {
   "cell_type": "code",
   "execution_count": 197,
   "metadata": {
    "scrolled": true
   },
   "outputs": [],
   "source": [
    "df_2.loc[df_2.yapı_durumu == \"Belirtilmemiş\", \"yapı_durumu\"] = \"İkinci El\" "
   ]
  },
  {
   "cell_type": "code",
   "execution_count": 17,
   "metadata": {},
   "outputs": [],
   "source": [
    "# m2 yazan yerleri kaldırıyoruz."
   ]
  },
  {
   "cell_type": "code",
   "execution_count": 198,
   "metadata": {},
   "outputs": [],
   "source": [
    "df_2[\"net_metrekare\"] = df_2.net_metrekare.str[:-3]"
   ]
  },
  {
   "cell_type": "code",
   "execution_count": 19,
   "metadata": {},
   "outputs": [],
   "source": [
    "# salon metrekare de belirtilmemiş çok fazla olduğu için kaldırıyoruz"
   ]
  },
  {
   "cell_type": "code",
   "execution_count": 18,
   "metadata": {
    "collapsed": true
   },
   "outputs": [
    {
     "data": {
      "text/plain": [
       "Belirtilmemiş    673\n",
       "25                32\n",
       "30                26\n",
       "28                17\n",
       "20                12\n",
       "40                 7\n",
       "35                 7\n",
       "22                 6\n",
       "24                 5\n",
       "50                 5\n",
       "15                 4\n",
       "16                 2\n",
       "23                 2\n",
       "45                 2\n",
       "21                 2\n",
       "60                 2\n",
       "70                 2\n",
       "33                 2\n",
       "29                 2\n",
       "3                  1\n",
       "26                 1\n",
       "521                1\n",
       "100                1\n",
       "14                 1\n",
       "32                 1\n",
       "31                 1\n",
       "18                 1\n",
       "10                 1\n",
       "65                 1\n",
       "95                 1\n",
       "Name: salon_metrekare, dtype: int64"
      ]
     },
     "execution_count": 18,
     "metadata": {},
     "output_type": "execute_result"
    }
   ],
   "source": [
    "df_2.salon_metrekare.value_counts()"
   ]
  },
  {
   "cell_type": "code",
   "execution_count": 199,
   "metadata": {},
   "outputs": [],
   "source": [
    "df_2.drop(\"salon_metrekare\", axis = 1, inplace = True)"
   ]
  },
  {
   "cell_type": "code",
   "execution_count": 20,
   "metadata": {},
   "outputs": [],
   "source": [
    "# alan kısmında ki m2 yazısını kaldırıyoruz."
   ]
  },
  {
   "cell_type": "code",
   "execution_count": 200,
   "metadata": {},
   "outputs": [],
   "source": [
    "df_2[\"alan\"] = df_2.alan.str[:-3]"
   ]
  },
  {
   "cell_type": "code",
   "execution_count": 21,
   "metadata": {},
   "outputs": [],
   "source": [
    "# bu şekilde yazan bina yaşını sıfır yapıyoruz"
   ]
  },
  {
   "cell_type": "code",
   "execution_count": 201,
   "metadata": {},
   "outputs": [],
   "source": [
    "df_2.loc[df_2.bina_yaşı == \"0 (Yeni)\", \"bina_yaşı\"] = \"0\""
   ]
  },
  {
   "cell_type": "code",
   "execution_count": null,
   "metadata": {},
   "outputs": [],
   "source": [
    "# aidat girilmemiş yerleri 0 yapıyoruz"
   ]
  },
  {
   "cell_type": "code",
   "execution_count": 202,
   "metadata": {},
   "outputs": [],
   "source": [
    "df_2.loc[df_2.aidat == \"TL\", \"aidat\"] = \"0 TL\""
   ]
  },
  {
   "cell_type": "code",
   "execution_count": 203,
   "metadata": {},
   "outputs": [],
   "source": [
    "df_2.loc[df_2.aidat == \"00 TL\", \"aidat\"] = \"0 TL\""
   ]
  },
  {
   "cell_type": "code",
   "execution_count": 204,
   "metadata": {},
   "outputs": [],
   "source": [
    "df_2.loc[df_2.aidat == \"0\", \"aidat\"] = \"0 TL\""
   ]
  },
  {
   "cell_type": "code",
   "execution_count": 205,
   "metadata": {},
   "outputs": [],
   "source": [
    "df_2.loc[df_2.aidat == \"Belirtilmemiş\", \"aidat\"] = \"0 TL\""
   ]
  },
  {
   "cell_type": "code",
   "execution_count": 206,
   "metadata": {},
   "outputs": [],
   "source": [
    "df_2.loc[df_2.aidat == \"295000 TL\", \"aidat\"] = \"295 TL\""
   ]
  },
  {
   "cell_type": "code",
   "execution_count": 207,
   "metadata": {},
   "outputs": [],
   "source": [
    "df_2.loc[df_2.aidat == \"1 TL\", \"aidat\"] = \"0 TL\""
   ]
  },
  {
   "cell_type": "code",
   "execution_count": 69,
   "metadata": {
    "collapsed": true
   },
   "outputs": [
    {
     "data": {
      "text/plain": [
       "TL               378\n",
       "Belirtilmemiş    224\n",
       "0 TL              57\n",
       "30 TL             24\n",
       "50 TL             20\n",
       "20 TL             10\n",
       "300 TL            10\n",
       "25 TL              9\n",
       "40 TL              9\n",
       "150 TL             7\n",
       "35 TL              7\n",
       "70 TL              5\n",
       "100 TL             3\n",
       "400 TL             3\n",
       "200 TL             3\n",
       "125 TL             3\n",
       "440 TL             2\n",
       "284 TL             2\n",
       "180 TL             2\n",
       "15 TL              2\n",
       "250 TL             2\n",
       "110 TL             2\n",
       "360 TL             2\n",
       "460 TL             2\n",
       "600 TL             1\n",
       "700 TL             1\n",
       "417 TL             1\n",
       "380 TL             1\n",
       "130 TL             1\n",
       "269 TL             1\n",
       "330 TL             1\n",
       "295 TL             1\n",
       "375 TL             1\n",
       "340 TL             1\n",
       "280 TL             1\n",
       "800 TL             1\n",
       "500 TL             1\n",
       "32 TL              1\n",
       "00 TL              1\n",
       "270 TL             1\n",
       "1000 TL            1\n",
       "309 TL             1\n",
       "1 TL               1\n",
       "1650 TL            1\n",
       "10 TL              1\n",
       "295000 TL          1\n",
       "1200 TL            1\n",
       "550 TL             1\n",
       "165 TL             1\n",
       "900 TL             1\n",
       "80 TL              1\n",
       "275 TL             1\n",
       "442 TL             1\n",
       "230 TL             1\n",
       "650 TL             1\n",
       "285 TL             1\n",
       "350 TL             1\n",
       "Name: aidat, dtype: int64"
      ]
     },
     "execution_count": 69,
     "metadata": {},
     "output_type": "execute_result"
    }
   ],
   "source": [
    "df_2.aidat.value_counts()"
   ]
  },
  {
   "cell_type": "code",
   "execution_count": 208,
   "metadata": {},
   "outputs": [],
   "source": [
    "df_2[\"aidat\"] = df_2.aidat.str[:-3]"
   ]
  },
  {
   "cell_type": "code",
   "execution_count": 22,
   "metadata": {},
   "outputs": [],
   "source": [
    "# çok az değer girildiği için kira getirisini kaldırıyoruz."
   ]
  },
  {
   "cell_type": "code",
   "execution_count": 70,
   "metadata": {
    "collapsed": true
   },
   "outputs": [
    {
     "data": {
      "text/plain": [
       "TL               407\n",
       "Belirtilmemiş    176\n",
       "0 TL              22\n",
       "2000 TL           19\n",
       "1500 TL           17\n",
       "1200 TL           15\n",
       "1000 TL           12\n",
       "2500 TL           12\n",
       "1300 TL           11\n",
       "3000 TL           10\n",
       "1100 TL            9\n",
       "1700 TL            8\n",
       "1800 TL            8\n",
       "1600 TL            7\n",
       "1400 TL            7\n",
       "2200 TL            5\n",
       "1350 TL            4\n",
       "900 TL             4\n",
       "5000 TL            4\n",
       "2700 TL            4\n",
       "1850 TL            4\n",
       "1250 TL            3\n",
       "4000 TL            3\n",
       "1750 TL            3\n",
       "3500 TL            3\n",
       "130000 TL          2\n",
       "2250 TL            2\n",
       "950 TL             2\n",
       "2400 TL            2\n",
       "3750 TL            2\n",
       "850 TL             2\n",
       "2300 TL            2\n",
       "2750 TL            2\n",
       "15000 TL           2\n",
       "12000 TL           2\n",
       "500 TL             1\n",
       "40000 TL           1\n",
       "7000 TL            1\n",
       "800 TL             1\n",
       "10500 TL           1\n",
       "9000 TL            1\n",
       "00 TL              1\n",
       "100000 TL          1\n",
       "1650 TL            1\n",
       "30000 TL           1\n",
       "1 TL               1\n",
       "25000 TL           1\n",
       "70000 TL           1\n",
       "700 TL             1\n",
       "2450 TL            1\n",
       "10000 TL           1\n",
       "6500 TL            1\n",
       "465000 TL          1\n",
       "18000 TL           1\n",
       "1325 TL            1\n",
       "6000 TL            1\n",
       "45000 TL           1\n",
       "80000 TL           1\n",
       "120000 TL          1\n",
       "Name: kira_getirisi, dtype: int64"
      ]
     },
     "execution_count": 70,
     "metadata": {},
     "output_type": "execute_result"
    }
   ],
   "source": [
    "df_2.kira_getirisi.value_counts()"
   ]
  },
  {
   "cell_type": "code",
   "execution_count": 209,
   "metadata": {},
   "outputs": [],
   "source": [
    "df_2.drop(\"kira_getirisi\", axis = 1, inplace = True)"
   ]
  },
  {
   "cell_type": "code",
   "execution_count": 24,
   "metadata": {},
   "outputs": [],
   "source": [
    "# wc ve banyo kısmında düzenleme yapıyoruz."
   ]
  },
  {
   "cell_type": "code",
   "execution_count": 210,
   "metadata": {},
   "outputs": [],
   "source": [
    "df_2.loc[df_2.wc_sayısı == \"Yok\", \"wc_sayısı\"] = 0\n",
    "df_2.loc[df_2.wc_sayısı == \"Belirtilmemiş\", \"wc_sayısı\"] = 0"
   ]
  },
  {
   "cell_type": "code",
   "execution_count": 211,
   "metadata": {},
   "outputs": [],
   "source": [
    "df_2.loc[df_2.banyo_sayısı == \"Yok\", \"banyo_sayısı\"] = 0\n",
    "df_2.loc[df_2.banyo_sayısı == \"5\", \"banyo_sayısı\"] = 5\n",
    "df_2.loc[df_2.banyo_sayısı == \"2\", \"banyo_sayısı\"] = 2\n",
    "df_2.loc[df_2.banyo_sayısı == \"1\", \"banyo_sayısı\"] = 1\n",
    "df_2.loc[df_2.banyo_sayısı == \"3\", \"banyo_sayısı\"] = 3\n",
    "df_2.loc[df_2.banyo_sayısı == \"4\", \"banyo_sayısı\"] = 4"
   ]
  },
  {
   "cell_type": "code",
   "execution_count": 29,
   "metadata": {},
   "outputs": [],
   "source": [
    "# Eşya durumunda belirtilmemiş olanları BOŞ yapıyoruz."
   ]
  },
  {
   "cell_type": "code",
   "execution_count": 71,
   "metadata": {},
   "outputs": [
    {
     "data": {
      "text/plain": [
       "Boş              595\n",
       "Belirtilmemiş    191\n",
       "Eşyalı            35\n",
       "Name: eşya_durumu, dtype: int64"
      ]
     },
     "execution_count": 71,
     "metadata": {},
     "output_type": "execute_result"
    }
   ],
   "source": [
    "df_2.eşya_durumu.value_counts()"
   ]
  },
  {
   "cell_type": "code",
   "execution_count": 212,
   "metadata": {},
   "outputs": [],
   "source": [
    "df_2.loc[df_2.eşya_durumu == \"Belirtilmemiş\", \"eşya_durumu\"] = \"Boş\""
   ]
  },
  {
   "cell_type": "code",
   "execution_count": 31,
   "metadata": {},
   "outputs": [],
   "source": [
    "# Belirtilmemiş olan yatırıma uygunluk durumunu bilinmiyora çevirdik"
   ]
  },
  {
   "cell_type": "code",
   "execution_count": 72,
   "metadata": {},
   "outputs": [
    {
     "data": {
      "text/plain": [
       "Bilinmiyor              421\n",
       "Yatırıma Uygun          320\n",
       "Belirtilmemiş            79\n",
       "Yatırıma Uygun Değil      1\n",
       "Name: yatırıma_uygunluk, dtype: int64"
      ]
     },
     "execution_count": 72,
     "metadata": {},
     "output_type": "execute_result"
    }
   ],
   "source": [
    "df_2.yatırıma_uygunluk.value_counts()"
   ]
  },
  {
   "cell_type": "code",
   "execution_count": 213,
   "metadata": {},
   "outputs": [],
   "source": [
    "df_2.loc[df_2.yatırıma_uygunluk == \"Belirtilmemiş\", \"yatırıma_uygunluk\"] = \"Bilinmiyor\""
   ]
  },
  {
   "cell_type": "code",
   "execution_count": 73,
   "metadata": {},
   "outputs": [
    {
     "data": {
      "text/plain": [
       "Belirtilmemiş    426\n",
       "Betonarme        379\n",
       "Taş Bina          11\n",
       "Ahşap              3\n",
       "Kagir              1\n",
       "Çelik              1\n",
       "Name: yapı_tipi, dtype: int64"
      ]
     },
     "execution_count": 73,
     "metadata": {},
     "output_type": "execute_result"
    }
   ],
   "source": [
    "df_2.yapı_tipi.value_counts()"
   ]
  },
  {
   "cell_type": "code",
   "execution_count": 214,
   "metadata": {},
   "outputs": [],
   "source": [
    "df_2.loc[df_2.yapı_tipi == \"Belirtilmemiş\", \"yapı_tipi\"] = \"Betonarme\""
   ]
  },
  {
   "cell_type": "code",
   "execution_count": 215,
   "metadata": {},
   "outputs": [],
   "source": [
    "df_2.loc[df_2.takas == \"Bel\", \"takas\"] = \"Yok\""
   ]
  },
  {
   "cell_type": "code",
   "execution_count": 25,
   "metadata": {},
   "outputs": [],
   "source": [
    "# yapılan değişiklikleri kaydediyoruz."
   ]
  },
  {
   "cell_type": "code",
   "execution_count": 220,
   "metadata": {},
   "outputs": [],
   "source": [
    "#df_2.to_excel(\"ilçeler_2.xlsx\")"
   ]
  },
  {
   "cell_type": "markdown",
   "metadata": {},
   "source": [
    "## Bu kısımda kategorik ifadelerimize etiketleme işlemi yapacağız."
   ]
  },
  {
   "cell_type": "code",
   "execution_count": 26,
   "metadata": {},
   "outputs": [],
   "source": [
    "import pandas as pd"
   ]
  },
  {
   "cell_type": "code",
   "execution_count": 74,
   "metadata": {},
   "outputs": [],
   "source": [
    "df = pd.read_excel(\"ilçeler_2.xlsx\")\n",
    "df.drop(\"Unnamed: 0\", axis = 1, inplace = True)\n",
    "df_2 = df.copy()\n",
    "df_3 = df.copy()"
   ]
  },
  {
   "cell_type": "code",
   "execution_count": 75,
   "metadata": {},
   "outputs": [
    {
     "data": {
      "text/html": [
       "<div>\n",
       "<style scoped>\n",
       "    .dataframe tbody tr th:only-of-type {\n",
       "        vertical-align: middle;\n",
       "    }\n",
       "\n",
       "    .dataframe tbody tr th {\n",
       "        vertical-align: top;\n",
       "    }\n",
       "\n",
       "    .dataframe thead th {\n",
       "        text-align: right;\n",
       "    }\n",
       "</style>\n",
       "<table border=\"1\" class=\"dataframe\">\n",
       "  <thead>\n",
       "    <tr style=\"text-align: right;\">\n",
       "      <th></th>\n",
       "      <th>ilçe</th>\n",
       "      <th>türü</th>\n",
       "      <th>kategori</th>\n",
       "      <th>yapı_durumu</th>\n",
       "      <th>net_metrekare</th>\n",
       "      <th>alan</th>\n",
       "      <th>oda_sayısı</th>\n",
       "      <th>bina_yaşı</th>\n",
       "      <th>dairenin_katı</th>\n",
       "      <th>kat_sayısı</th>\n",
       "      <th>...</th>\n",
       "      <th>banyo_sayısı</th>\n",
       "      <th>wc_sayısı</th>\n",
       "      <th>site_içerisinde</th>\n",
       "      <th>eşya_durumu</th>\n",
       "      <th>kullanım_durumu</th>\n",
       "      <th>krediye_uygunluk</th>\n",
       "      <th>yatırıma_uygunluk</th>\n",
       "      <th>yapı_tipi</th>\n",
       "      <th>takas</th>\n",
       "      <th>fiyat</th>\n",
       "    </tr>\n",
       "  </thead>\n",
       "  <tbody>\n",
       "    <tr>\n",
       "      <td>0</td>\n",
       "      <td>çekmeköy</td>\n",
       "      <td>Daire</td>\n",
       "      <td>Satılık</td>\n",
       "      <td>İkinci El</td>\n",
       "      <td>165</td>\n",
       "      <td>190</td>\n",
       "      <td>4+1</td>\n",
       "      <td>20 Ve Üzeri</td>\n",
       "      <td>Bahçe Dublex</td>\n",
       "      <td>6</td>\n",
       "      <td>...</td>\n",
       "      <td>1</td>\n",
       "      <td>2</td>\n",
       "      <td>Evet</td>\n",
       "      <td>Boş</td>\n",
       "      <td>Mal Sahibi Oturuyor</td>\n",
       "      <td>KREDIYE UYGUN</td>\n",
       "      <td>Yatırıma Uygun</td>\n",
       "      <td>Betonarme</td>\n",
       "      <td>Yok</td>\n",
       "      <td>430000</td>\n",
       "    </tr>\n",
       "    <tr>\n",
       "      <td>1</td>\n",
       "      <td>çekmeköy</td>\n",
       "      <td>Daire</td>\n",
       "      <td>Satılık</td>\n",
       "      <td>Sıfır</td>\n",
       "      <td>85</td>\n",
       "      <td>95</td>\n",
       "      <td>2+1</td>\n",
       "      <td>0</td>\n",
       "      <td>2</td>\n",
       "      <td>3</td>\n",
       "      <td>...</td>\n",
       "      <td>1</td>\n",
       "      <td>1</td>\n",
       "      <td>Hayır</td>\n",
       "      <td>Boş</td>\n",
       "      <td>Boş</td>\n",
       "      <td>KREDIYE UYGUN</td>\n",
       "      <td>Bilinmiyor</td>\n",
       "      <td>Betonarme</td>\n",
       "      <td>Var</td>\n",
       "      <td>239000</td>\n",
       "    </tr>\n",
       "    <tr>\n",
       "      <td>2</td>\n",
       "      <td>çekmeköy</td>\n",
       "      <td>Daire</td>\n",
       "      <td>Satılık</td>\n",
       "      <td>İkinci El</td>\n",
       "      <td>130</td>\n",
       "      <td>143</td>\n",
       "      <td>3+1</td>\n",
       "      <td>11-20</td>\n",
       "      <td>2</td>\n",
       "      <td>5</td>\n",
       "      <td>...</td>\n",
       "      <td>2</td>\n",
       "      <td>0</td>\n",
       "      <td>Hayır</td>\n",
       "      <td>Boş</td>\n",
       "      <td>Boş</td>\n",
       "      <td>KREDIYE UYGUN</td>\n",
       "      <td>Bilinmiyor</td>\n",
       "      <td>Betonarme</td>\n",
       "      <td>Yok</td>\n",
       "      <td>400000</td>\n",
       "    </tr>\n",
       "    <tr>\n",
       "      <td>3</td>\n",
       "      <td>çekmeköy</td>\n",
       "      <td>Daire</td>\n",
       "      <td>Satılık</td>\n",
       "      <td>İkinci El</td>\n",
       "      <td>92</td>\n",
       "      <td>105</td>\n",
       "      <td>2+1</td>\n",
       "      <td>0</td>\n",
       "      <td>Yüksek Giriş</td>\n",
       "      <td>5</td>\n",
       "      <td>...</td>\n",
       "      <td>1</td>\n",
       "      <td>1</td>\n",
       "      <td>Hayır</td>\n",
       "      <td>Boş</td>\n",
       "      <td>Boş</td>\n",
       "      <td>KREDIYE UYGUN</td>\n",
       "      <td>Bilinmiyor</td>\n",
       "      <td>Betonarme</td>\n",
       "      <td>Var</td>\n",
       "      <td>159000</td>\n",
       "    </tr>\n",
       "    <tr>\n",
       "      <td>4</td>\n",
       "      <td>çekmeköy</td>\n",
       "      <td>Daire</td>\n",
       "      <td>Satılık</td>\n",
       "      <td>Sıfır</td>\n",
       "      <td>120</td>\n",
       "      <td>140</td>\n",
       "      <td>3+2</td>\n",
       "      <td>2</td>\n",
       "      <td>4</td>\n",
       "      <td>4</td>\n",
       "      <td>...</td>\n",
       "      <td>1</td>\n",
       "      <td>1</td>\n",
       "      <td>Hayır</td>\n",
       "      <td>Boş</td>\n",
       "      <td>Boş</td>\n",
       "      <td>KREDIYE UYGUN</td>\n",
       "      <td>Yatırıma Uygun</td>\n",
       "      <td>Betonarme</td>\n",
       "      <td>Var</td>\n",
       "      <td>385000</td>\n",
       "    </tr>\n",
       "    <tr>\n",
       "      <td>...</td>\n",
       "      <td>...</td>\n",
       "      <td>...</td>\n",
       "      <td>...</td>\n",
       "      <td>...</td>\n",
       "      <td>...</td>\n",
       "      <td>...</td>\n",
       "      <td>...</td>\n",
       "      <td>...</td>\n",
       "      <td>...</td>\n",
       "      <td>...</td>\n",
       "      <td>...</td>\n",
       "      <td>...</td>\n",
       "      <td>...</td>\n",
       "      <td>...</td>\n",
       "      <td>...</td>\n",
       "      <td>...</td>\n",
       "      <td>...</td>\n",
       "      <td>...</td>\n",
       "      <td>...</td>\n",
       "      <td>...</td>\n",
       "      <td>...</td>\n",
       "    </tr>\n",
       "    <tr>\n",
       "      <td>814</td>\n",
       "      <td>zeytinburnu</td>\n",
       "      <td>Daire</td>\n",
       "      <td>Satılık</td>\n",
       "      <td>İkinci El</td>\n",
       "      <td>85</td>\n",
       "      <td>103</td>\n",
       "      <td>2+1</td>\n",
       "      <td>5-10</td>\n",
       "      <td>7</td>\n",
       "      <td>14</td>\n",
       "      <td>...</td>\n",
       "      <td>2</td>\n",
       "      <td>0</td>\n",
       "      <td>Hayır</td>\n",
       "      <td>Boş</td>\n",
       "      <td>Kiracı Oturuyor</td>\n",
       "      <td>KREDIYE UYGUN</td>\n",
       "      <td>Bilinmiyor</td>\n",
       "      <td>Betonarme</td>\n",
       "      <td>Yok</td>\n",
       "      <td>750000</td>\n",
       "    </tr>\n",
       "    <tr>\n",
       "      <td>815</td>\n",
       "      <td>zeytinburnu</td>\n",
       "      <td>Residence</td>\n",
       "      <td>Satılık</td>\n",
       "      <td>İkinci El</td>\n",
       "      <td>25</td>\n",
       "      <td>41</td>\n",
       "      <td>1</td>\n",
       "      <td>3</td>\n",
       "      <td>4</td>\n",
       "      <td>18</td>\n",
       "      <td>...</td>\n",
       "      <td>1</td>\n",
       "      <td>0</td>\n",
       "      <td>Hayır</td>\n",
       "      <td>Eşyalı</td>\n",
       "      <td>Kiracı Oturuyor</td>\n",
       "      <td>KREDIYE UYGUN</td>\n",
       "      <td>Bilinmiyor</td>\n",
       "      <td>Taş Bina</td>\n",
       "      <td>Yok</td>\n",
       "      <td>360000</td>\n",
       "    </tr>\n",
       "    <tr>\n",
       "      <td>816</td>\n",
       "      <td>zeytinburnu</td>\n",
       "      <td>Daire</td>\n",
       "      <td>Satılık</td>\n",
       "      <td>İkinci El</td>\n",
       "      <td>65</td>\n",
       "      <td>74</td>\n",
       "      <td>1+1</td>\n",
       "      <td>5-10</td>\n",
       "      <td>5</td>\n",
       "      <td>9</td>\n",
       "      <td>...</td>\n",
       "      <td>1</td>\n",
       "      <td>0</td>\n",
       "      <td>Hayır</td>\n",
       "      <td>Boş</td>\n",
       "      <td>Kiracı Oturuyor</td>\n",
       "      <td>KREDIYE UYGUN</td>\n",
       "      <td>Bilinmiyor</td>\n",
       "      <td>Betonarme</td>\n",
       "      <td>Yok</td>\n",
       "      <td>550000</td>\n",
       "    </tr>\n",
       "    <tr>\n",
       "      <td>817</td>\n",
       "      <td>zeytinburnu</td>\n",
       "      <td>Daire</td>\n",
       "      <td>Satılık</td>\n",
       "      <td>İkinci El</td>\n",
       "      <td>85</td>\n",
       "      <td>103</td>\n",
       "      <td>2+1</td>\n",
       "      <td>5-10</td>\n",
       "      <td>Düz Giriş</td>\n",
       "      <td>14</td>\n",
       "      <td>...</td>\n",
       "      <td>2</td>\n",
       "      <td>0</td>\n",
       "      <td>Hayır</td>\n",
       "      <td>Boş</td>\n",
       "      <td>Kiracı Oturuyor</td>\n",
       "      <td>KREDIYE UYGUN</td>\n",
       "      <td>Bilinmiyor</td>\n",
       "      <td>Betonarme</td>\n",
       "      <td>Yok</td>\n",
       "      <td>700000</td>\n",
       "    </tr>\n",
       "    <tr>\n",
       "      <td>818</td>\n",
       "      <td>zeytinburnu</td>\n",
       "      <td>Daire</td>\n",
       "      <td>Satılık</td>\n",
       "      <td>İkinci El</td>\n",
       "      <td>74</td>\n",
       "      <td>96</td>\n",
       "      <td>1+1</td>\n",
       "      <td>5-10</td>\n",
       "      <td>9</td>\n",
       "      <td>9</td>\n",
       "      <td>...</td>\n",
       "      <td>1</td>\n",
       "      <td>0</td>\n",
       "      <td>Hayır</td>\n",
       "      <td>Boş</td>\n",
       "      <td>Boş</td>\n",
       "      <td>KREDIYE UYGUN</td>\n",
       "      <td>Bilinmiyor</td>\n",
       "      <td>Betonarme</td>\n",
       "      <td>Yok</td>\n",
       "      <td>600000</td>\n",
       "    </tr>\n",
       "  </tbody>\n",
       "</table>\n",
       "<p>819 rows × 22 columns</p>\n",
       "</div>"
      ],
      "text/plain": [
       "            ilçe       türü kategori yapı_durumu  net_metrekare  alan  \\\n",
       "0       çekmeköy      Daire  Satılık   İkinci El            165   190   \n",
       "1       çekmeköy      Daire  Satılık       Sıfır             85    95   \n",
       "2       çekmeköy      Daire  Satılık   İkinci El            130   143   \n",
       "3       çekmeköy      Daire  Satılık   İkinci El             92   105   \n",
       "4       çekmeköy      Daire  Satılık       Sıfır            120   140   \n",
       "..           ...        ...      ...         ...            ...   ...   \n",
       "814  zeytinburnu      Daire  Satılık   İkinci El             85   103   \n",
       "815  zeytinburnu  Residence  Satılık   İkinci El             25    41   \n",
       "816  zeytinburnu      Daire  Satılık   İkinci El             65    74   \n",
       "817  zeytinburnu      Daire  Satılık   İkinci El             85   103   \n",
       "818  zeytinburnu      Daire  Satılık   İkinci El             74    96   \n",
       "\n",
       "    oda_sayısı    bina_yaşı dairenin_katı  kat_sayısı  ... banyo_sayısı  \\\n",
       "0          4+1  20 Ve Üzeri  Bahçe Dublex           6  ...            1   \n",
       "1          2+1            0             2           3  ...            1   \n",
       "2          3+1        11-20             2           5  ...            2   \n",
       "3          2+1            0  Yüksek Giriş           5  ...            1   \n",
       "4          3+2            2             4           4  ...            1   \n",
       "..         ...          ...           ...         ...  ...          ...   \n",
       "814        2+1         5-10             7          14  ...            2   \n",
       "815          1            3             4          18  ...            1   \n",
       "816        1+1         5-10             5           9  ...            1   \n",
       "817        2+1         5-10     Düz Giriş          14  ...            2   \n",
       "818        1+1         5-10             9           9  ...            1   \n",
       "\n",
       "     wc_sayısı site_içerisinde eşya_durumu      kullanım_durumu  \\\n",
       "0            2            Evet         Boş  Mal Sahibi Oturuyor   \n",
       "1            1           Hayır         Boş                  Boş   \n",
       "2            0           Hayır         Boş                  Boş   \n",
       "3            1           Hayır         Boş                  Boş   \n",
       "4            1           Hayır         Boş                  Boş   \n",
       "..         ...             ...         ...                  ...   \n",
       "814          0           Hayır         Boş      Kiracı Oturuyor   \n",
       "815          0           Hayır      Eşyalı      Kiracı Oturuyor   \n",
       "816          0           Hayır         Boş      Kiracı Oturuyor   \n",
       "817          0           Hayır         Boş      Kiracı Oturuyor   \n",
       "818          0           Hayır         Boş                  Boş   \n",
       "\n",
       "    krediye_uygunluk yatırıma_uygunluk  yapı_tipi takas   fiyat  \n",
       "0      KREDIYE UYGUN    Yatırıma Uygun  Betonarme   Yok  430000  \n",
       "1      KREDIYE UYGUN        Bilinmiyor  Betonarme   Var  239000  \n",
       "2      KREDIYE UYGUN        Bilinmiyor  Betonarme   Yok  400000  \n",
       "3      KREDIYE UYGUN        Bilinmiyor  Betonarme   Var  159000  \n",
       "4      KREDIYE UYGUN    Yatırıma Uygun  Betonarme   Var  385000  \n",
       "..               ...               ...        ...   ...     ...  \n",
       "814    KREDIYE UYGUN        Bilinmiyor  Betonarme   Yok  750000  \n",
       "815    KREDIYE UYGUN        Bilinmiyor   Taş Bina   Yok  360000  \n",
       "816    KREDIYE UYGUN        Bilinmiyor  Betonarme   Yok  550000  \n",
       "817    KREDIYE UYGUN        Bilinmiyor  Betonarme   Yok  700000  \n",
       "818    KREDIYE UYGUN        Bilinmiyor  Betonarme   Yok  600000  \n",
       "\n",
       "[819 rows x 22 columns]"
      ]
     },
     "execution_count": 75,
     "metadata": {},
     "output_type": "execute_result"
    }
   ],
   "source": [
    "df_2"
   ]
  },
  {
   "cell_type": "code",
   "execution_count": 6,
   "metadata": {},
   "outputs": [],
   "source": [
    "# dairenin katı banyo sayısı wc sayısı"
   ]
  },
  {
   "cell_type": "code",
   "execution_count": 7,
   "metadata": {},
   "outputs": [
    {
     "data": {
      "text/plain": [
       "Index(['ilçe', 'türü', 'kategori', 'yapı_durumu', 'net_metrekare', 'alan',\n",
       "       'oda_sayısı', 'bina_yaşı', 'dairenin_katı', 'kat_sayısı', 'ısıtma',\n",
       "       'aidat', 'banyo_sayısı', 'wc_sayısı', 'site_içerisinde', 'eşya_durumu',\n",
       "       'kullanım_durumu', 'krediye_uygunluk', 'yatırıma_uygunluk', 'yapı_tipi',\n",
       "       'takas', 'fiyat'],\n",
       "      dtype='object')"
      ]
     },
     "execution_count": 7,
     "metadata": {},
     "output_type": "execute_result"
    }
   ],
   "source": [
    "df_2.columns"
   ]
  },
  {
   "cell_type": "code",
   "execution_count": null,
   "metadata": {},
   "outputs": [],
   "source": []
  },
  {
   "cell_type": "markdown",
   "metadata": {},
   "source": [
    "### Etiketleme İşlemi için sklearn içinde ki kütüphaneyi kullanacağız."
   ]
  },
  {
   "cell_type": "code",
   "execution_count": 32,
   "metadata": {},
   "outputs": [],
   "source": [
    "from sklearn import preprocessing \n",
    "le = preprocessing.LabelEncoder()\n"
   ]
  },
  {
   "cell_type": "code",
   "execution_count": 46,
   "metadata": {},
   "outputs": [],
   "source": [
    "# transform işlemi yaparak etiketleme yapmış oluruz."
   ]
  },
  {
   "cell_type": "code",
   "execution_count": 76,
   "metadata": {
    "scrolled": true
   },
   "outputs": [],
   "source": [
    "df_3[\"ilçe\"] = le.fit_transform(df_2.ilçe)"
   ]
  },
  {
   "cell_type": "code",
   "execution_count": 47,
   "metadata": {},
   "outputs": [],
   "source": [
    "# etiketlediğimiz verilerin neler olduğuna bakarız."
   ]
  },
  {
   "cell_type": "code",
   "execution_count": 77,
   "metadata": {},
   "outputs": [
    {
     "data": {
      "text/plain": [
       "array(['sarıyer', 'silivri', 'sultanbeyli', 'sultangazi', 'tuzla',\n",
       "       'zeytinburnu', 'çekmeköy', 'ümraniye', 'üsküdar', 'şile', 'şişli'],\n",
       "      dtype=object)"
      ]
     },
     "execution_count": 77,
     "metadata": {},
     "output_type": "execute_result"
    }
   ],
   "source": [
    "le.classes_"
   ]
  },
  {
   "cell_type": "code",
   "execution_count": 48,
   "metadata": {},
   "outputs": [],
   "source": [
    "# etiketlenmiş verilerin karşılığını öğreniriz."
   ]
  },
  {
   "cell_type": "code",
   "execution_count": 80,
   "metadata": {},
   "outputs": [
    {
     "data": {
      "text/plain": [
       "array([ 6,  0,  1,  2,  3,  9, 10,  4,  7,  8,  5], dtype=int64)"
      ]
     },
     "execution_count": 80,
     "metadata": {},
     "output_type": "execute_result"
    }
   ],
   "source": [
    "df_3.ilçe.unique()"
   ]
  },
  {
   "cell_type": "code",
   "execution_count": 83,
   "metadata": {},
   "outputs": [
    {
     "data": {
      "text/plain": [
       "array(['silivri'], dtype=object)"
      ]
     },
     "execution_count": 83,
     "metadata": {},
     "output_type": "execute_result"
    }
   ],
   "source": [
    "le.inverse_transform([1])"
   ]
  },
  {
   "cell_type": "code",
   "execution_count": 49,
   "metadata": {},
   "outputs": [],
   "source": [
    "# Bu şekilde hepsi için fit_trasform işlemi yapıyoruz."
   ]
  },
  {
   "cell_type": "code",
   "execution_count": 11,
   "metadata": {
    "scrolled": true
   },
   "outputs": [],
   "source": [
    "df_3[\"türü\"] = le.fit_transform(df_2.türü)"
   ]
  },
  {
   "cell_type": "code",
   "execution_count": 12,
   "metadata": {},
   "outputs": [],
   "source": [
    "df_3[\"kategori\"] = le.fit_transform(df_2.kategori)"
   ]
  },
  {
   "cell_type": "code",
   "execution_count": 13,
   "metadata": {},
   "outputs": [],
   "source": [
    "df_3[\"yapı_durumu\"] = le.fit_transform(df_2.yapı_durumu)"
   ]
  },
  {
   "cell_type": "code",
   "execution_count": 14,
   "metadata": {},
   "outputs": [],
   "source": [
    "df_3[\"oda_sayısı\"] = le.fit_transform(df_2.oda_sayısı)"
   ]
  },
  {
   "cell_type": "code",
   "execution_count": 15,
   "metadata": {},
   "outputs": [],
   "source": [
    "df_3[\"bina_yaşı\"] = le.fit_transform(df_2.bina_yaşı)"
   ]
  },
  {
   "cell_type": "code",
   "execution_count": 16,
   "metadata": {},
   "outputs": [],
   "source": [
    "df_3[\"ısıtma\"]  = le.fit_transform(df_2.ısıtma)"
   ]
  },
  {
   "cell_type": "code",
   "execution_count": 17,
   "metadata": {},
   "outputs": [],
   "source": [
    "df_3[\"site_içerisinde\"] = le.fit_transform(df_2.site_içerisinde)"
   ]
  },
  {
   "cell_type": "code",
   "execution_count": 18,
   "metadata": {},
   "outputs": [],
   "source": [
    "df_3[\"eşya_durumu\"] = le.fit_transform(df_2.eşya_durumu)"
   ]
  },
  {
   "cell_type": "code",
   "execution_count": 19,
   "metadata": {},
   "outputs": [],
   "source": [
    "df_3[\"kullanım_durumu\"] = le.fit_transform(df_2.kullanım_durumu)"
   ]
  },
  {
   "cell_type": "code",
   "execution_count": 20,
   "metadata": {},
   "outputs": [],
   "source": [
    "df_3[\"krediye_uygunluk\"] = le.fit_transform(df_2.krediye_uygunluk)"
   ]
  },
  {
   "cell_type": "code",
   "execution_count": 21,
   "metadata": {},
   "outputs": [],
   "source": [
    "df_3[\"yatırıma_uygunluk\"] = le.fit_transform(df_2.yatırıma_uygunluk)"
   ]
  },
  {
   "cell_type": "code",
   "execution_count": 22,
   "metadata": {},
   "outputs": [],
   "source": [
    "df_3[\"yapı_tipi\"] = le.fit_transform(df_2.yapı_tipi)"
   ]
  },
  {
   "cell_type": "code",
   "execution_count": 23,
   "metadata": {},
   "outputs": [],
   "source": [
    "df_3[\"takas\"] = le.fit_transform(df_2.takas)"
   ]
  },
  {
   "cell_type": "code",
   "execution_count": null,
   "metadata": {},
   "outputs": [],
   "source": []
  },
  {
   "cell_type": "code",
   "execution_count": null,
   "metadata": {},
   "outputs": [],
   "source": []
  },
  {
   "cell_type": "code",
   "execution_count": 241,
   "metadata": {},
   "outputs": [],
   "source": [
    "#df_3.to_excel(\"ilçe_3.xlsx\")"
   ]
  },
  {
   "cell_type": "code",
   "execution_count": 62,
   "metadata": {},
   "outputs": [],
   "source": [
    "import pandas as pd"
   ]
  },
  {
   "cell_type": "code",
   "execution_count": 72,
   "metadata": {},
   "outputs": [
    {
     "data": {
      "text/html": [
       "<div>\n",
       "<style scoped>\n",
       "    .dataframe tbody tr th:only-of-type {\n",
       "        vertical-align: middle;\n",
       "    }\n",
       "\n",
       "    .dataframe tbody tr th {\n",
       "        vertical-align: top;\n",
       "    }\n",
       "\n",
       "    .dataframe thead th {\n",
       "        text-align: right;\n",
       "    }\n",
       "</style>\n",
       "<table border=\"1\" class=\"dataframe\">\n",
       "  <thead>\n",
       "    <tr style=\"text-align: right;\">\n",
       "      <th></th>\n",
       "      <th>ilçe</th>\n",
       "      <th>türü</th>\n",
       "      <th>kategori</th>\n",
       "      <th>yapı_durumu</th>\n",
       "      <th>net_metrekare</th>\n",
       "      <th>alan</th>\n",
       "      <th>oda_sayısı</th>\n",
       "      <th>bina_yaşı</th>\n",
       "      <th>dairenin_katı</th>\n",
       "      <th>kat_sayısı</th>\n",
       "      <th>...</th>\n",
       "      <th>banyo_sayısı</th>\n",
       "      <th>wc_sayısı</th>\n",
       "      <th>site_içerisinde</th>\n",
       "      <th>eşya_durumu</th>\n",
       "      <th>kullanım_durumu</th>\n",
       "      <th>krediye_uygunluk</th>\n",
       "      <th>yatırıma_uygunluk</th>\n",
       "      <th>yapı_tipi</th>\n",
       "      <th>takas</th>\n",
       "      <th>fiyat</th>\n",
       "    </tr>\n",
       "  </thead>\n",
       "  <tbody>\n",
       "    <tr>\n",
       "      <td>0</td>\n",
       "      <td>6</td>\n",
       "      <td>1</td>\n",
       "      <td>0</td>\n",
       "      <td>2</td>\n",
       "      <td>165</td>\n",
       "      <td>190</td>\n",
       "      <td>6</td>\n",
       "      <td>4</td>\n",
       "      <td>Bahçe Dublex</td>\n",
       "      <td>6</td>\n",
       "      <td>...</td>\n",
       "      <td>1</td>\n",
       "      <td>2</td>\n",
       "      <td>0</td>\n",
       "      <td>0</td>\n",
       "      <td>2</td>\n",
       "      <td>1</td>\n",
       "      <td>1</td>\n",
       "      <td>1</td>\n",
       "      <td>1</td>\n",
       "      <td>430000</td>\n",
       "    </tr>\n",
       "    <tr>\n",
       "      <td>1</td>\n",
       "      <td>6</td>\n",
       "      <td>1</td>\n",
       "      <td>0</td>\n",
       "      <td>0</td>\n",
       "      <td>85</td>\n",
       "      <td>95</td>\n",
       "      <td>2</td>\n",
       "      <td>0</td>\n",
       "      <td>2</td>\n",
       "      <td>3</td>\n",
       "      <td>...</td>\n",
       "      <td>1</td>\n",
       "      <td>1</td>\n",
       "      <td>1</td>\n",
       "      <td>0</td>\n",
       "      <td>0</td>\n",
       "      <td>1</td>\n",
       "      <td>0</td>\n",
       "      <td>1</td>\n",
       "      <td>0</td>\n",
       "      <td>239000</td>\n",
       "    </tr>\n",
       "    <tr>\n",
       "      <td>2</td>\n",
       "      <td>6</td>\n",
       "      <td>1</td>\n",
       "      <td>0</td>\n",
       "      <td>2</td>\n",
       "      <td>130</td>\n",
       "      <td>143</td>\n",
       "      <td>4</td>\n",
       "      <td>2</td>\n",
       "      <td>2</td>\n",
       "      <td>5</td>\n",
       "      <td>...</td>\n",
       "      <td>2</td>\n",
       "      <td>0</td>\n",
       "      <td>1</td>\n",
       "      <td>0</td>\n",
       "      <td>0</td>\n",
       "      <td>1</td>\n",
       "      <td>0</td>\n",
       "      <td>1</td>\n",
       "      <td>1</td>\n",
       "      <td>400000</td>\n",
       "    </tr>\n",
       "    <tr>\n",
       "      <td>3</td>\n",
       "      <td>6</td>\n",
       "      <td>1</td>\n",
       "      <td>0</td>\n",
       "      <td>2</td>\n",
       "      <td>92</td>\n",
       "      <td>105</td>\n",
       "      <td>2</td>\n",
       "      <td>0</td>\n",
       "      <td>Yüksek Giriş</td>\n",
       "      <td>5</td>\n",
       "      <td>...</td>\n",
       "      <td>1</td>\n",
       "      <td>1</td>\n",
       "      <td>1</td>\n",
       "      <td>0</td>\n",
       "      <td>0</td>\n",
       "      <td>1</td>\n",
       "      <td>0</td>\n",
       "      <td>1</td>\n",
       "      <td>0</td>\n",
       "      <td>159000</td>\n",
       "    </tr>\n",
       "    <tr>\n",
       "      <td>4</td>\n",
       "      <td>6</td>\n",
       "      <td>1</td>\n",
       "      <td>0</td>\n",
       "      <td>0</td>\n",
       "      <td>120</td>\n",
       "      <td>140</td>\n",
       "      <td>5</td>\n",
       "      <td>3</td>\n",
       "      <td>4</td>\n",
       "      <td>4</td>\n",
       "      <td>...</td>\n",
       "      <td>1</td>\n",
       "      <td>1</td>\n",
       "      <td>1</td>\n",
       "      <td>0</td>\n",
       "      <td>0</td>\n",
       "      <td>1</td>\n",
       "      <td>1</td>\n",
       "      <td>1</td>\n",
       "      <td>0</td>\n",
       "      <td>385000</td>\n",
       "    </tr>\n",
       "  </tbody>\n",
       "</table>\n",
       "<p>5 rows × 22 columns</p>\n",
       "</div>"
      ],
      "text/plain": [
       "   ilçe  türü  kategori  yapı_durumu  net_metrekare  alan  oda_sayısı  \\\n",
       "0     6     1         0            2            165   190           6   \n",
       "1     6     1         0            0             85    95           2   \n",
       "2     6     1         0            2            130   143           4   \n",
       "3     6     1         0            2             92   105           2   \n",
       "4     6     1         0            0            120   140           5   \n",
       "\n",
       "   bina_yaşı dairenin_katı  kat_sayısı  ...  banyo_sayısı  wc_sayısı  \\\n",
       "0          4  Bahçe Dublex           6  ...             1          2   \n",
       "1          0             2           3  ...             1          1   \n",
       "2          2             2           5  ...             2          0   \n",
       "3          0  Yüksek Giriş           5  ...             1          1   \n",
       "4          3             4           4  ...             1          1   \n",
       "\n",
       "  site_içerisinde eşya_durumu  kullanım_durumu  krediye_uygunluk  \\\n",
       "0               0           0                2                 1   \n",
       "1               1           0                0                 1   \n",
       "2               1           0                0                 1   \n",
       "3               1           0                0                 1   \n",
       "4               1           0                0                 1   \n",
       "\n",
       "   yatırıma_uygunluk  yapı_tipi  takas   fiyat  \n",
       "0                  1          1      1  430000  \n",
       "1                  0          1      0  239000  \n",
       "2                  0          1      1  400000  \n",
       "3                  0          1      0  159000  \n",
       "4                  1          1      0  385000  \n",
       "\n",
       "[5 rows x 22 columns]"
      ]
     },
     "execution_count": 72,
     "metadata": {},
     "output_type": "execute_result"
    }
   ],
   "source": [
    "df = pd.read_excel(\"ilçeler_3.xlsx\")\n",
    "df.drop(\"Unnamed: 0\", axis = 1, inplace = True)\n",
    "df.head()"
   ]
  },
  {
   "cell_type": "code",
   "execution_count": null,
   "metadata": {},
   "outputs": [],
   "source": []
  },
  {
   "cell_type": "code",
   "execution_count": 73,
   "metadata": {},
   "outputs": [],
   "source": [
    "# dairenin katı banyo sayısı wc sayısı"
   ]
  },
  {
   "cell_type": "code",
   "execution_count": 50,
   "metadata": {},
   "outputs": [],
   "source": [
    "# Banyo Sayısı Ve wc sayısı için de işlemleri gerçekleştiriyoruz."
   ]
  },
  {
   "cell_type": "code",
   "execution_count": 74,
   "metadata": {},
   "outputs": [],
   "source": [
    "df['banyo_sayısı'] = df['banyo_sayısı'].astype(str)"
   ]
  },
  {
   "cell_type": "code",
   "execution_count": 75,
   "metadata": {},
   "outputs": [],
   "source": [
    "df[\"banyo_sayısı\"] = le.fit_transform(df.banyo_sayısı)"
   ]
  },
  {
   "cell_type": "code",
   "execution_count": 57,
   "metadata": {},
   "outputs": [],
   "source": [
    "df['wc_sayısı'] = df['wc_sayısı'].astype(str)"
   ]
  },
  {
   "cell_type": "code",
   "execution_count": 58,
   "metadata": {},
   "outputs": [],
   "source": [
    "df['wc_sayısı'] = le.fit_transform(df.wc_sayısı)"
   ]
  },
  {
   "cell_type": "code",
   "execution_count": 51,
   "metadata": {},
   "outputs": [],
   "source": [
    "# Dairenin katı ile ilgili düzenleme"
   ]
  },
  {
   "cell_type": "code",
   "execution_count": 84,
   "metadata": {
    "scrolled": true
   },
   "outputs": [
    {
     "data": {
      "text/plain": [
       "2                112\n",
       "3                 87\n",
       "4                 82\n",
       "Düz Giriş         73\n",
       "1                 73\n",
       "Bahçe Katı        66\n",
       "Yüksek Giriş      54\n",
       "Villa Tipi        49\n",
       "Müstakil          34\n",
       "5                 34\n",
       "8                 17\n",
       "Çatı Dubleks      17\n",
       "Kot 1             16\n",
       "9                 14\n",
       "6                 13\n",
       "7                 10\n",
       "10                 9\n",
       "Bahçe Dublex       8\n",
       "Çatı Katı          7\n",
       "11                 5\n",
       "Yarı Bodrum        4\n",
       "12                 4\n",
       "Kot 3              4\n",
       "Yüksek Bodrum      3\n",
       "21                 3\n",
       "13                 3\n",
       "Kot 2              3\n",
       "2                  2\n",
       "17                 2\n",
       "Tam Bodrum         2\n",
       "15                 2\n",
       "30-40              1\n",
       "16                 1\n",
       "22                 1\n",
       "20-30              1\n",
       "14                 1\n",
       "27                 1\n",
       "24                 1\n",
       "Name: dairenin_katı, dtype: int64"
      ]
     },
     "execution_count": 84,
     "metadata": {},
     "output_type": "execute_result"
    }
   ],
   "source": [
    "df.dairenin_katı.value_counts()"
   ]
  },
  {
   "cell_type": "code",
   "execution_count": 32,
   "metadata": {
    "scrolled": true
   },
   "outputs": [],
   "source": [
    "df.loc[df.dairenin_katı == \"Yüksek Giriş\", \"dairenin_katı\"] = \"Giriş\""
   ]
  },
  {
   "cell_type": "code",
   "execution_count": 33,
   "metadata": {},
   "outputs": [],
   "source": [
    "df.loc[df.dairenin_katı == \"Düz Giriş\", \"dairenin_katı\"] = \"Giriş\""
   ]
  },
  {
   "cell_type": "code",
   "execution_count": 34,
   "metadata": {},
   "outputs": [],
   "source": [
    "df.loc[df.dairenin_katı == \"Yüksek Bodrum\", \"dairenin_katı\"] = \"Bodrum\"\n",
    "df.loc[df.dairenin_katı == \"Tam Bodrum\", \"dairenin_katı\"] = \"Bodrum\"\n",
    "df.loc[df.dairenin_katı == \"Yarı Bodrum\", \"dairenin_katı\"] = \"Bodrum\""
   ]
  },
  {
   "cell_type": "code",
   "execution_count": 35,
   "metadata": {},
   "outputs": [],
   "source": [
    "df.loc[df.dairenin_katı == \"10\", \"dairenin_katı\"] = \"10-20\"\n",
    "df.loc[df.dairenin_katı == \"11\", \"dairenin_katı\"] = \"10-20\"\n",
    "df.loc[df.dairenin_katı == \"12\", \"dairenin_katı\"] = \"10-20\"\n",
    "df.loc[df.dairenin_katı == \"13\", \"dairenin_katı\"] = \"10-20\"\n",
    "df.loc[df.dairenin_katı == \"14\", \"dairenin_katı\"] = \"10-20\"\n",
    "df.loc[df.dairenin_katı == \"15\", \"dairenin_katı\"] = \"10-20\"\n",
    "df.loc[df.dairenin_katı == \"16\", \"dairenin_katı\"] = \"10-20\"\n",
    "df.loc[df.dairenin_katı == \"17\", \"dairenin_katı\"] = \"10-20\"\n",
    "df.loc[df.dairenin_katı == \"18\", \"dairenin_katı\"] = \"10-20\"\n",
    "df.loc[df.dairenin_katı == \"19\", \"dairenin_katı\"] = \"10-20\"\n",
    "df.loc[df.dairenin_katı == \"20\", \"dairenin_katı\"] = \"10-20\""
   ]
  },
  {
   "cell_type": "code",
   "execution_count": 36,
   "metadata": {},
   "outputs": [],
   "source": [
    "df.loc[df.dairenin_katı == \"21\", \"dairenin_katı\"] = \"21-29\"\n",
    "df.loc[df.dairenin_katı == \"22\", \"dairenin_katı\"] = \"21-29\"\n",
    "df.loc[df.dairenin_katı == \"23\", \"dairenin_katı\"] = \"21-29\"\n",
    "df.loc[df.dairenin_katı == \"24\", \"dairenin_katı\"] = \"21-29\"\n",
    "df.loc[df.dairenin_katı == \"25\", \"dairenin_katı\"] = \"21-29\"\n",
    "df.loc[df.dairenin_katı == \"26\", \"dairenin_katı\"] = \"21-29\"\n",
    "df.loc[df.dairenin_katı == \"27\", \"dairenin_katı\"] = \"21-29\"\n",
    "df.loc[df.dairenin_katı == \"28\", \"dairenin_katı\"] = \"21-29\"\n",
    "df.loc[df.dairenin_katı == \"29\", \"dairenin_katı\"] = \"21-29\""
   ]
  },
  {
   "cell_type": "code",
   "execution_count": 37,
   "metadata": {},
   "outputs": [],
   "source": [
    "df.loc[df.dairenin_katı == \"Kot 1\" , \"dairenin_katı\"] = \"-1\" \n",
    "df.loc[df.dairenin_katı == \"Kot 2\" , \"dairenin_katı\"] = \"-2\" \n",
    "df.loc[df.dairenin_katı == \"Kot 3\" , \"dairenin_katı\"] = \"-3\" "
   ]
  },
  {
   "cell_type": "code",
   "execution_count": 38,
   "metadata": {},
   "outputs": [],
   "source": [
    "df['dairenin_katı'] = df['dairenin_katı'].astype(str)"
   ]
  },
  {
   "cell_type": "code",
   "execution_count": 39,
   "metadata": {
    "scrolled": true
   },
   "outputs": [],
   "source": [
    "df[\"dairenin_katı\"] = le.fit_transform(df.dairenin_katı)"
   ]
  },
  {
   "cell_type": "code",
   "execution_count": 40,
   "metadata": {},
   "outputs": [
    {
     "data": {
      "text/plain": [
       "array(['-1', '-2', '-3', '1', '10-20', '2', '20-30', '21-29', '3',\n",
       "       '30-40', '4', '5', '6', '7', '8', '9', 'Bahçe Dublex',\n",
       "       'Bahçe Katı', 'Bodrum', 'Giriş', 'Müstakil', 'Villa Tipi',\n",
       "       'Çatı Dubleks', 'Çatı Katı'], dtype=object)"
      ]
     },
     "execution_count": 40,
     "metadata": {},
     "output_type": "execute_result"
    }
   ],
   "source": [
    "le.classes_"
   ]
  },
  {
   "cell_type": "code",
   "execution_count": 52,
   "metadata": {},
   "outputs": [],
   "source": [
    "# yapılan değişikliklerle beraber yeni bir excel dosyasına kaydediyoruz."
   ]
  },
  {
   "cell_type": "code",
   "execution_count": 77,
   "metadata": {},
   "outputs": [],
   "source": [
    "#df.to_excel(\"son_hali_ilçeler.xlsx\")"
   ]
  },
  {
   "cell_type": "code",
   "execution_count": null,
   "metadata": {},
   "outputs": [],
   "source": []
  },
  {
   "cell_type": "code",
   "execution_count": null,
   "metadata": {},
   "outputs": [],
   "source": []
  }
 ],
 "metadata": {
  "kernelspec": {
   "display_name": "Python 3",
   "language": "python",
   "name": "python3"
  },
  "language_info": {
   "codemirror_mode": {
    "name": "ipython",
    "version": 3
   },
   "file_extension": ".py",
   "mimetype": "text/x-python",
   "name": "python",
   "nbconvert_exporter": "python",
   "pygments_lexer": "ipython3",
   "version": "3.7.4"
  }
 },
 "nbformat": 4,
 "nbformat_minor": 2
}
